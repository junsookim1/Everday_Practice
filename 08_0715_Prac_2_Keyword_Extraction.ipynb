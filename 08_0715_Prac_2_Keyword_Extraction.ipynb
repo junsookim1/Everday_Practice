{
  "nbformat": 4,
  "nbformat_minor": 0,
  "metadata": {
    "colab": {
      "name": "08_0715_Prac_2_Keyword_Extraction.ipynb",
      "provenance": [],
      "collapsed_sections": [],
      "include_colab_link": true
    },
    "kernelspec": {
      "name": "python3",
      "display_name": "Python 3"
    }
  },
  "cells": [
    {
      "cell_type": "markdown",
      "metadata": {
        "id": "view-in-github",
        "colab_type": "text"
      },
      "source": [
        "<a href=\"https://colab.research.google.com/github/junsookim1/Everday_Practice/blob/master/08_0715_Prac_2_Keyword_Extraction.ipynb\" target=\"_parent\"><img src=\"https://colab.research.google.com/assets/colab-badge.svg\" alt=\"Open In Colab\"/></a>"
      ]
    },
    {
      "cell_type": "markdown",
      "metadata": {
        "id": "q1Q9mWDrgMUn",
        "colab_type": "text"
      },
      "source": [
        "# 8장. 핵심 키워드 추출 (Keyword Extraction)"
      ]
    },
    {
      "cell_type": "markdown",
      "metadata": {
        "id": "PSZIeetL8Yym",
        "colab_type": "text"
      },
      "source": [
        "# 8-0 데이터 준비"
      ]
    },
    {
      "cell_type": "markdown",
      "metadata": {
        "id": "hpTxmnbx8v6m",
        "colab_type": "text"
      },
      "source": [
        "## Mecab 설치 (필요시)"
      ]
    },
    {
      "cell_type": "code",
      "metadata": {
        "id": "qsWnZkd78qCA",
        "colab_type": "code",
        "colab": {
          "base_uri": "https://localhost:8080/",
          "height": 1000
        },
        "outputId": "ae787c9b-4c50-4fc5-8217-bd53a71337bb"
      },
      "source": [
        "!sudo apt-get install g++ openjdk-7-jdk # Install Java 1.7+\n",
        "!sudo apt-get install python-dev; pip install konlpy     # Python 2.x\n",
        "!sudo apt-get install python3-dev; pip3 install konlpy   # Python 3.x\n",
        "!sudo apt-get install curl\n",
        "!bash <(curl -s https://raw.githubusercontent.com/konlpy/konlpy/master/scripts/mecab.sh)"
      ],
      "execution_count": 2,
      "outputs": [
        {
          "output_type": "stream",
          "text": [
            "Reading package lists... Done\n",
            "Building dependency tree       \n",
            "Reading state information... Done\n",
            "Package openjdk-7-jdk is not available, but is referred to by another package.\n",
            "This may mean that the package is missing, has been obsoleted, or\n",
            "is only available from another source\n",
            "\n",
            "E: Package 'openjdk-7-jdk' has no installation candidate\n",
            "Reading package lists... Done\n",
            "Building dependency tree       \n",
            "Reading state information... Done\n",
            "python-dev is already the newest version (2.7.15~rc1-1).\n",
            "The following package was automatically installed and is no longer required:\n",
            "  libnvidia-common-440\n",
            "Use 'sudo apt autoremove' to remove it.\n",
            "0 upgraded, 0 newly installed, 0 to remove and 49 not upgraded.\n",
            "Requirement already satisfied: konlpy in /usr/local/lib/python3.6/dist-packages (0.5.2)\n",
            "Requirement already satisfied: JPype1>=0.7.0 in /usr/local/lib/python3.6/dist-packages (from konlpy) (0.7.5)\n",
            "Requirement already satisfied: lxml>=4.1.0 in /usr/local/lib/python3.6/dist-packages (from konlpy) (4.2.6)\n",
            "Requirement already satisfied: tweepy>=3.7.0 in /usr/local/lib/python3.6/dist-packages (from konlpy) (3.9.0)\n",
            "Requirement already satisfied: colorama in /usr/local/lib/python3.6/dist-packages (from konlpy) (0.4.3)\n",
            "Requirement already satisfied: numpy>=1.6 in /usr/local/lib/python3.6/dist-packages (from konlpy) (1.18.5)\n",
            "Requirement already satisfied: beautifulsoup4==4.6.0 in /usr/local/lib/python3.6/dist-packages (from konlpy) (4.6.0)\n",
            "Requirement already satisfied: requests-oauthlib>=0.7.0 in /usr/local/lib/python3.6/dist-packages (from tweepy>=3.7.0->konlpy) (1.3.0)\n",
            "Requirement already satisfied: requests[socks]>=2.11.1 in /usr/local/lib/python3.6/dist-packages (from tweepy>=3.7.0->konlpy) (2.23.0)\n",
            "Requirement already satisfied: six>=1.10.0 in /usr/local/lib/python3.6/dist-packages (from tweepy>=3.7.0->konlpy) (1.12.0)\n",
            "Requirement already satisfied: oauthlib>=3.0.0 in /usr/local/lib/python3.6/dist-packages (from requests-oauthlib>=0.7.0->tweepy>=3.7.0->konlpy) (3.1.0)\n",
            "Requirement already satisfied: chardet<4,>=3.0.2 in /usr/local/lib/python3.6/dist-packages (from requests[socks]>=2.11.1->tweepy>=3.7.0->konlpy) (3.0.4)\n",
            "Requirement already satisfied: idna<3,>=2.5 in /usr/local/lib/python3.6/dist-packages (from requests[socks]>=2.11.1->tweepy>=3.7.0->konlpy) (2.10)\n",
            "Requirement already satisfied: urllib3!=1.25.0,!=1.25.1,<1.26,>=1.21.1 in /usr/local/lib/python3.6/dist-packages (from requests[socks]>=2.11.1->tweepy>=3.7.0->konlpy) (1.24.3)\n",
            "Requirement already satisfied: certifi>=2017.4.17 in /usr/local/lib/python3.6/dist-packages (from requests[socks]>=2.11.1->tweepy>=3.7.0->konlpy) (2020.6.20)\n",
            "Requirement already satisfied: PySocks!=1.5.7,>=1.5.6; extra == \"socks\" in /usr/local/lib/python3.6/dist-packages (from requests[socks]>=2.11.1->tweepy>=3.7.0->konlpy) (1.7.1)\n",
            "Reading package lists... Done\n",
            "Building dependency tree       \n",
            "Reading state information... Done\n",
            "python3-dev is already the newest version (3.6.7-1~18.04).\n",
            "The following package was automatically installed and is no longer required:\n",
            "  libnvidia-common-440\n",
            "Use 'sudo apt autoremove' to remove it.\n",
            "0 upgraded, 0 newly installed, 0 to remove and 49 not upgraded.\n",
            "Requirement already satisfied: konlpy in /usr/local/lib/python3.6/dist-packages (0.5.2)\n",
            "Requirement already satisfied: lxml>=4.1.0 in /usr/local/lib/python3.6/dist-packages (from konlpy) (4.2.6)\n",
            "Requirement already satisfied: colorama in /usr/local/lib/python3.6/dist-packages (from konlpy) (0.4.3)\n",
            "Requirement already satisfied: JPype1>=0.7.0 in /usr/local/lib/python3.6/dist-packages (from konlpy) (0.7.5)\n",
            "Requirement already satisfied: numpy>=1.6 in /usr/local/lib/python3.6/dist-packages (from konlpy) (1.18.5)\n",
            "Requirement already satisfied: tweepy>=3.7.0 in /usr/local/lib/python3.6/dist-packages (from konlpy) (3.9.0)\n",
            "Requirement already satisfied: beautifulsoup4==4.6.0 in /usr/local/lib/python3.6/dist-packages (from konlpy) (4.6.0)\n",
            "Requirement already satisfied: six>=1.10.0 in /usr/local/lib/python3.6/dist-packages (from tweepy>=3.7.0->konlpy) (1.12.0)\n",
            "Requirement already satisfied: requests[socks]>=2.11.1 in /usr/local/lib/python3.6/dist-packages (from tweepy>=3.7.0->konlpy) (2.23.0)\n",
            "Requirement already satisfied: requests-oauthlib>=0.7.0 in /usr/local/lib/python3.6/dist-packages (from tweepy>=3.7.0->konlpy) (1.3.0)\n",
            "Requirement already satisfied: idna<3,>=2.5 in /usr/local/lib/python3.6/dist-packages (from requests[socks]>=2.11.1->tweepy>=3.7.0->konlpy) (2.10)\n",
            "Requirement already satisfied: chardet<4,>=3.0.2 in /usr/local/lib/python3.6/dist-packages (from requests[socks]>=2.11.1->tweepy>=3.7.0->konlpy) (3.0.4)\n",
            "Requirement already satisfied: certifi>=2017.4.17 in /usr/local/lib/python3.6/dist-packages (from requests[socks]>=2.11.1->tweepy>=3.7.0->konlpy) (2020.6.20)\n",
            "Requirement already satisfied: urllib3!=1.25.0,!=1.25.1,<1.26,>=1.21.1 in /usr/local/lib/python3.6/dist-packages (from requests[socks]>=2.11.1->tweepy>=3.7.0->konlpy) (1.24.3)\n",
            "Requirement already satisfied: PySocks!=1.5.7,>=1.5.6; extra == \"socks\" in /usr/local/lib/python3.6/dist-packages (from requests[socks]>=2.11.1->tweepy>=3.7.0->konlpy) (1.7.1)\n",
            "Requirement already satisfied: oauthlib>=3.0.0 in /usr/local/lib/python3.6/dist-packages (from requests-oauthlib>=0.7.0->tweepy>=3.7.0->konlpy) (3.1.0)\n",
            "Reading package lists... Done\n",
            "Building dependency tree       \n",
            "Reading state information... Done\n",
            "curl is already the newest version (7.58.0-2ubuntu3.9).\n",
            "The following package was automatically installed and is no longer required:\n",
            "  libnvidia-common-440\n",
            "Use 'sudo apt autoremove' to remove it.\n",
            "0 upgraded, 0 newly installed, 0 to remove and 49 not upgraded.\n",
            "mecab-ko is already installed\n",
            "mecab-ko-dic is already installed\n",
            "mecab-python is already installed\n",
            "Done.\n"
          ],
          "name": "stdout"
        }
      ]
    },
    {
      "cell_type": "code",
      "metadata": {
        "id": "xae8sl1lbSom",
        "colab_type": "code",
        "colab": {
          "base_uri": "https://localhost:8080/",
          "height": 34
        },
        "outputId": "aff31b7e-5351-4e0f-9cd2-260c2ac29f43"
      },
      "source": [
        "from konlpy.tag import Mecab\n",
        "mecab = Mecab()\n",
        "mecab"
      ],
      "execution_count": 3,
      "outputs": [
        {
          "output_type": "execute_result",
          "data": {
            "text/plain": [
              "<konlpy.tag._mecab.Mecab at 0x7fb47ccec470>"
            ]
          },
          "metadata": {
            "tags": []
          },
          "execution_count": 3
        }
      ]
    },
    {
      "cell_type": "markdown",
      "metadata": {
        "id": "jxsBfWirA9ao",
        "colab_type": "text"
      },
      "source": [
        "# 8-1 TF-IDF 활용 핵심키워드 추출"
      ]
    },
    {
      "cell_type": "markdown",
      "metadata": {
        "id": "u8UYUNHDNMVp",
        "colab_type": "text"
      },
      "source": [
        "## 실습 1. sklearn 활용\n"
      ]
    },
    {
      "cell_type": "code",
      "metadata": {
        "id": "fdsHZk1UBtRP",
        "colab_type": "code",
        "colab": {}
      },
      "source": [
        "# 내가 작성한 코드 (불러오는데 있어서 기사의 전체 내용에 대해서만 불러온다.)\n",
        "# import requests \n",
        "# from bs4 import BeautifulSoup\n",
        "\n",
        "# def get_news_by_url(url):\n",
        "#     response = requests.get(url)\n",
        "#     # response.encoding = 'utf-8'\n",
        "#     soup = BeautifulSoup(response.text, 'html.parser')\n",
        "#     kor_news = soup.select('div[id=\"articleBodyContents\"]')\n",
        "#     kor_text = kor_news[0].get_text()\n",
        "#     print(kor_text)\n",
        "#     return kor_text\n",
        "#   #본문 가져오기\n",
        "\n",
        "\n",
        "\n",
        "# docs = []\n",
        "# docs.append( get_news_by_url('https://news.naver.com/main/read.nhn?mode=LSD&mid=sec&sid1=105&oid=018&aid=0004430108') )\n",
        "# docs.append( get_news_by_url('https://news.naver.com/main/read.nhn?mode=LSD&mid=sec&sid1=101&oid=001&aid=0011614790') )\n",
        "# docs.append( get_news_by_url('https://news.naver.com/main/read.nhn?mode=LSD&mid=sec&sid1=102&oid=014&aid=0004424362') )\n",
        "# docs.append( get_news_by_url('https://news.naver.com/main/read.nhn?mode=LSD&mid=sec&sid1=101&oid=119&aid=0002402191') )\n",
        "# docs.append( get_news_by_url('https://news.naver.com/main/read.nhn?mode=LSD&mid=sec&sid1=101&oid=030&aid=0002882728') )\n",
        "# len(docs)"
      ],
      "execution_count": null,
      "outputs": []
    },
    {
      "cell_type": "code",
      "metadata": {
        "id": "zExTJJj7fGa-",
        "colab_type": "code",
        "colab": {
          "base_uri": "https://localhost:8080/",
          "height": 125
        },
        "outputId": "593e5ede-0fc1-45b7-db2c-b8c22412c10b"
      },
      "source": [
        "# 기사를 불러온 다음 정규표현식을 통해 정리해 준다.\n",
        "# import re\n",
        "# docs_text = []\n",
        "# for i in docs:\n",
        "#   docs_text.extend(re.findall('[\\가-힣].+[가-힣][\\.]',i))\n",
        "\n",
        "# docs_text"
      ],
      "execution_count": 5,
      "outputs": [
        {
          "output_type": "execute_result",
          "data": {
            "text/plain": [
              "['과기정통부, 22일 유영민 장관 등 참석해 기념행사2021년까지 1516억원 투입, 5100여종 데이터 구축민간 클라우드 통한 외부연계체계도..\"개방성 강화\"[이데일리 이재운 기자] 국가 차원의 빅데이터 활용 시대가 열린다. 새로운 산업 창출과 기존 산업의 변화에 이르는 ‘혁신성장’을 위한 센터가 문을 연다. 10개 분야에 걸쳐 ‘데이터 경제’의 발전을 위한 정부의 청사진을 현실로 구현하는데 앞장선다는 계획이다.22일 과학기술정보통신부는 서울 중구 대한상공회의소에서 데이터 생태계 조성과 혁신 성장의 기반 마련을 위한 ‘빅데이터 플랫폼 및 센터’ 출범식 행사를 개최했다. 유영민 과기정통부 장관을 비롯해 노웅래 국회 과학기술정보방송통신위원회 위원장 등 300여명이 참가했다.◇10개 분야 100개 센터..3년간 1516억원 투입이미지: 픽사베이빅데이터는 데이터 활용을 통해 혁신성장을 이루자는 문재인 정부의 경제 성장 핵심 요소중 하나다. 문재인 대통령이 직접 올 들어 데이터 활용과 이에 따른 정보보호(보안)에 대한 중요성을 강조하기도 했다.이런 맥락 속에서 빅데이터센터는 공공과 민간이 협업해 활용도 높은 양질의 데이터를 생산·구축하고, 플랫폼은 이를 수집·분석·유통하는 역할을 담당한다. 과기정통부는 분야별 플랫폼 10개소와 이와 연계된 기관별 센터 100개소를 구축하는데 3년간 총 1516억원을 투입할 계획이며, 올해 우선 640억원 규모의 사업을 추진하고 있다.대상 분야는 △금융(BC카드) △환경(한국수자원공사) △문화(한국문화정보원) △교통(한국교통연구원) △헬스케어(국립암센터) △유통·소비(매일방송) △통신(KT) △중소기업(더존비즈온) △지역경제(경기도청) △산림(한국임업진흥원) 등으로 현재 1차 공모를 통해 72개 빅데이터 센터를 선정했고, 다음달 8일까지 2차 공모를 통해 28개를 추가 선정해 총 100개를 지원, 운영할 계획이다. 이를 통해 데이터 생태계를 혁신하고 기업의 경쟁력을 제고하는 역할을 수행한다.주요 활용 전략·사례를 보면 빅데이터 활용을 통해 ‘신(新) 시장’을 창출하는 방안을 담고 있다. 금융 플랫폼의 경우 소상공인 신용평가 고도화 등을 통해 금융 취약 계층 대상 중금리 대출이자를 2%p 절감해 연간 1조원의 신규대출을 창출할 전망이다. 유통·소비와 중소기업 플랫폼은 소상공인이나 중소기업의 폐업률 감소를, 문화 플랫폼은 문화·예술 관람률과 생활체육 참여율을 높이는 방안을 모색한다. 의료비 절감(헬스케어)과 기업의 매출 향상을 통한 산업 육성(통신·산림) 등도 눈길을 끈다.과기정통부 제공◇2021년까지 5100여종 데이터 구축..AI 알고리즘 제공도센터는 우선 분야별 데이터 부족 문제를 해소하기 위해 올해 말까지 시장 수요가 높은 1400여종 신규 데이터를 생산ㆍ구축하고, 사업이 완료되는 2021년까지 총 5100여종 양질의 풍부한 데이터를 생산·구축해 시장에 공급할 계획이다.특히 공공과 민간 사이 데이터 파일형식 등이 달라 호환이 제대로 이뤄지지 못한 문제를 해소하기 위해 개방형 표준을 적용하고, 품질관리기준도 마련해 운영한다.기업들이 실제 활용 가능한 최신 데이터를 확보하는데도 수개월이 소요된다는 문제점을 개선하기 위한 방안도 추진한다. 센터와 플랫폼 간 연계체계에는 민간 클라우드를 기반으로 활용하고, 센터에 축적된 데이터도 계속 외부와 개방·공유하며 최신·연속성을 확보한다는 계획이다.100개 센터에서 수집된 데이터를 융합·분석한 뒤 맞춤형 데이터 제작 등 양질의 데이터로 재생산하고, 기업들이 필요로 하는 데이터를 원하는 형태로 즉시 활용할 수 있도록 제공할 계획이다. 다양한 분석 도구는 물론 인공지능(AI) 학습 알고리즘도 제공해 이용자가 보다 사용하기 편리한 환경을 제공한다.이밖에 필요한 데이터를 쉽게 등록하고 검색할 수 있도록 기준을 마련하고, 데이터 보유와 관리에 대한 체계(거버넌스)를 논의하는 ‘데이터 얼라이언스’를 구성해 보다 안전하게 이용하는 방안도 마련했다.유영민 과기정통부 장관은 “오늘 출범식은 대한민국이 데이터 강국으로 가기 위한 초석을 놓은 자리”라며 “세계 주요국들보다 데이터 경제로 나아가는 발걸음이 다소 늦었지만, 빅데이터 플랫폼과 센터를 지렛대로 우리나라의 낙후된 데이터 생태계를 혁신하고 기업의 경쟁력을 한 단계 제고할 수 있도록 정책적 역량을 집중하겠다”고 밝혔다.',\n",
              " '한국전력공사[한국전력공사 제공]    (나주=연합뉴스) 송형일 기자 = 한국전력은 전력 데이터를 활용한 신(新)서비스 개발 경진대회가 8월 20일 한전 아트센터에서 개최된다고 18일 밝혔다.    산업통상자원부가 주최하고 한전과 전력그룹사, 광주과학기술원이 주관하는 이번 행사는 전력 빅데이터를 활용하는 새로운 사업 모델 발굴을 위해 마련됐다.    대회 참가를 희망하는 학생·일반인, 벤처기업과 새싹기업은 경진대회 홈페이지(http://contest.kepco.co.kr)에서 18일부터 6월 17일까지 제안서를 내면 된다.    1차 서류심사를 통과한 팀이나 개인은 제공된 전력 데이터를 활용해 서비스를 개발하고, 데이터가 외부 반출이 불가한 경우에는 한전 아트센터에 마련된 데이터 공유센터에서 개발한다.    완성도, 기술성, 상용화 가능성, 확장성 등을 기준으로 사내 직원과 사외 전문위원이 함께 평가한다.    시상은 개인(학생·일반인)과 기업 2개의 부문으로 나눠서 진행한다.    최종 선정 팀에는 총 2천150만 원의 상금을 주며, 수상작의 서비스 솔루션은 에너지마켓플레이스(EN:TER)에 등록해 사업화 할 수 있는 기회를 제공한다.    김종갑 한전 사장은 \"한전의 전력 데이터와 다른 공공기관 및 민간의 데이터를 융합해 보다 가치 있는 대국민 편익서비스를 많이 만들어 내길 기대한다\"고 말했다.',\n",
              " \"판교\\xa0자율주행\\xa0실증단지\\xa0자율주행\\xa0데이터\\xa0개방\\xa0사업\\xa0선정 [파이낸셜뉴스 수원=장충식 기자] 경기도는 경기도 자율주행센터에서 수집되는 자율주행 관련 데이터를 공공에 개방한다고 14일 밝혔다.   이는 정부의 2020년 국가중점 데이터 개방 지원 사업에 경기도 자율주행센터의 판교 자율주행 실증단지 자율주행 데이터가 선정된 데 따른 조치로, 오는 6월부터 ‘경기도 자율주행센터 자율주행 데이터 개방 사업’이 추진될 예정이다.   이에 따라 누구나 공공데이터포털 및 경기도자율주행센터포털에 접속하면 판교 자율주행 실증단지에서 수집되는 자율주행 관련 데이터를 별도의 데이터 가공 처리 없이 편리하게 활용할 수 있게 된다.   올 하반기부터 2022년까지 3개년에 걸쳐 자율주행 산업 발전에 필요한 데이터가 공공에 개방될 예정으로, 자율주행 산업 활성화에 기여할 것으로 도는 기대하고 있다.   임문영 경기도 미래성장정책관은 “경기도 자율주행센터는 작년 개소 이후, 건강하고 발전적인 자율주행 생태계 조성을 위해 힘써오고 있다”며 “센터는 앞으로도 경기도의 선진화된 자율주행기술 및 방대한 양의 데이터를 활용해 국내 자율주행 기술 발전에 앞장설 것”이라고 말했다.   한편, 경기도는 차세대융합기술연구원과 함께 자율주행 분야 산업생태계를 구축하기 위해 지난해 5월 경기도 자율주행센터를 출범했다.   운전자 없이 주행이 가능한 자율주행 레벨4 수준의 자율주행차 ‘제로셔틀’ 개발과 스타트업의 실증 테스트 및 빅데이터 서비스 등을 지원하는 등 자율주행 분야의 세계적인 실증단지 구축 및 운영을 위해 꾸준한 지원을 이어가고 있다.    jjang@fnnews.com 장충식 기자   ▶ 헉! 소리나는 스!토리 뉴스 [헉스]▶ '아는 척'하고 싶은 당신을 위한 [두유노우]  ※ 저작권자 ⓒ 파이낸셜뉴스.\",\n",
              " '통계청·SK텔레콤, 모바일 빅데이터 분석…5월 들어 회복세‘코로나19’ 발생 후 4주차·20대 미만 큰 폭 감소돼코로나19 발생 후 인구 이동을 분석한 결과, 발생 후 4주차 토요일인 2월 29일~3월 1일 가장 큰 폭으로 감소했으며 이후 감소폭이 점차 완화돼 5월 첫째 주를 기해 전년 대비 약 83%로 상당 수준 회복된 것으로 나타났다.인구 이동은 사람 간 접촉 가능성이 상대적으로 높은 상업지역, 관광지, 레저스포츠시설이 대형아울렛이나 주거지역보다 이동량 감소가 큰 편이었으나 5월 초 4일 연휴를 기점으로 관광지와 레저스포츠시설에서 큰 폭으로 늘어난 것으로 파악됐다.이 같은 이동결과는 통계청과 SK텔레콤이 모바일 빅데이터를 기반으로 전국 SKT 가입자의 주중과 주말 인구 이동 정보를 이용해 추정한 결과다.ⓒ코로나19 발생 전후 인구 이동 ⓒ통계청코로나19 발생 전후 대비 ⓒ통계청통계청과 SK텔레콤(시장점유율 약 42%)은 지난해 5월 업무협약을 체결한 이후, 정부혁신의 일환으로 공공·민간 협업을 추진하고 있으며, 통계데이터센터 홈페이지를 통해 모바일 유동인구 지도를 서비스 중이다.분석은 성·연령별, 입지유형별, 17개 시도별로 주중과 주말의 인구 이동 변화를 다각적으로 작년 같은 시기와 비교했으며, 인구 이동은 시·군·구 간 이동을 의미하며 본인이 실거주하는 시·군·구 외 타 시·군·구(행정동)를 30분 이상 방문한 경우를 이동 건수로 집계한 것이다.통계청은 인구 이동량을 등록센서스 인구를 모수로 성과 연령(5세별), 지역(읍·면·동)별 가중치를 적용·추정해본 결과, 코로나19 지역 집단감염(2월20일~29일) 영향으로 발생 후 4주차 토요일(2월29일) 인구 이동량은 작년 같은 주 토요일 대비 가장 큰 폭(-41.9%)으로 감소한 이후 3월부터 감소폭은 점차 완화됐다고 설명했다.이어 발생 후 13주차 토요일인 5월 2일에 상당 수준 회복(약 83%)됐다가 발생 후 14주차 토요일인 5월 9일에는 회복세가 주춤(약 75%)한 것으로 집계됐다.이는 13주차 4일간 연휴(4월30일～5월3일) 기간에 일시 이동량이 크게 늘어난 것으로 보였으며, 특히 연휴가 낀 주말에 코로나19로 인한 인구 이동량 변동이 크게 나타났다.성별·연령별로는 전반적으로 남성보다 여성이, 연령별로는 20세 미만·20대·60대·70세 이상에서 이동량 감소가 큰 편이었다.다만 13주차인 4월 27일〜5월 3일에는 4일간 연휴에 따른 가족 동반 이동이 늘어 여성과 20세 미만의 이동량이 큰 폭으로 늘었다.코로나19 발생 후 입지유형별 이동 ⓒ통계청입지유형별로는 레저스포츠시설이 대형아울렛, 주거지역보다 이동량 감소가 큰 편이었으며, 연휴기간에는 관광지, 레저스포츠시설에서 큰 폭의 증가세를 보였다.입지분류로는 △상업지역 △관광지 △대형아울렛 △사무지역 △레저·스포츠시설 △주거지역 등 6개로 한정했다.시·도별 이동으로는 코로나19 발생 후 제주·강원·부산·대구 등 관광지역이나 대규모 확진자 발생지역을 중심으로 인구 유입이 감소했고, 13주차에는 4일간 연로 전남·전북·충남·강원 등 대도시가 아닌 지역으로 인구 유입이 큰 폭으로 늘어났다.통계청은 앞으로도 각종 사회·경제적 이슈 발생될 때 모바일 빅데이터를 활용해 정부정책에 참고할 수 있는 다양한 기초자료를 제공한다는 방침이다.',\n",
              " \"금융결제원·신용정보원 등 지정비씨카드 추가 포함 여부도 논의시행령 발표한 후 빠르게 추진하반기 데이터 유통·판매 급물살정부가 금융결제원과 신용정보원 등 업권별 9곳의 마이데이터 중계기관을 선정했다. 14일 서울 중구 한국신용정보원에서 마이데이터 태스크포스(TF)가 마이데이터 전송항목 표준화 관련 실무회의를 진행하고 있다. 이동근기자 foto@etnews.com정부가 미래 신사업으로 떠오른 마이데이터 중계기관 9곳을 최종 선정했다.마이데이터 중계기관은 여러 기관에 흩어져 있는 개인 금융, 비금융 데이터를 한 번에 통합 조회할 때 마이데이터 사업자와 금융기관을 연결, 효율 높게 데이터를 오갈 수 있는 허브 역할을 담당하게 된다. 중계기관이 없는 경우 기업과 금융기관은 별도의 계약을 맺어 데이터를 연결해야 한다. 비효율이 발생한다. 중계기관은 금융기관과 다수 핀테크 사업자 등을 1대 N으로 연결, 데이터 유통과 관리를 중계하는 일종의 정보기술(IT) 인프라를 운영한다.14일 정부와 금융권에 따르면 금융위원회는 마이데이터 중계기관 9곳을 최종 선정, 조만간 인프라 개발 작업에 착수한다.선정된 중계기관은 금융결제원, 신용정보원, 농협중앙회, 수협중앙회, 상호저축은행중앙회, 신협중앙회, 새마을금고중앙회, 코스콤, 행정정보공유센터다.이들 중계기관은 앞으로 업권별·유형별 데이터를 관리·유통하는 허브 역할을 전담한다. 이종산업 간 데이터도 결합하는 마이데이터 산업의 핵심 역할을 담당하게 된다. 9곳 외에 카드데이터 중계 기관으로 프로세싱 인프라를 보유한 비씨카드도 중계기관으로 포함할 것인지에 대한 논의가 진행되고 있는 것으로 알려졌다. 사실상 다수의 데이터를 개별 계약·관리하기보다는 중계기간을 거쳐 더 효율 높게 데이터를 관리하겠다는 전략이다.이보다 앞서 금융위는 마이데이터 산업 활성화를 위한 공청회 등을 열기도 했다. 공청회 당시 중계기관 선정을 놓고 의견이 엇갈렸다.일부 기업은 중계기관이 데이터를 독점할 수 있다는 우려를 지속 제기했고, 다수 금융사와 기업은 마이데이터 산업의 조속한 진흥을 위해 중계기관이 필요하다는 입장을 제시했다.코로나19 여파로 중계기관 간 공식 회의는 아직 열리지 않았지만 인프라 개발과 구축 작업을 위한 논의는 시작됐다. 대형 인프라 설비가 필요하기 때문에 시스템통합(SI)업계에도 사업 기회가 주어질 것으로 전망된다.우선 9개 기관 가운데 마이데이터 중계 핵심 역할은 금융결제원과 신용정보원이 전담할 가능성이 높다. 일부 중계기관의 경우 인프라 개발 경험이 전무하고 데이터를 중계할 수 있는 시스템 자체가 없다.비씨카드를 중계기관으로 허용할지에 대한 논의도 쟁점으로 떠올랐다. 업권을 대변하는 여신금융협회 대신 카드정보 실제 프로세싱을 할 수 있는 비씨카드가 중계 역할에 적합하다는 의견이 제기됐다. 내부에서 의견이 갈리고 있어 시간은 걸릴 수 있다.현재로선 금융결제원과 신용정보원이 데이터 중계를 위한 핵심 인프라 설비와 개발을 도맡을 가능성이 짙다. 그 외 농협중앙회가 농협은행 응용프로그램개발환경(API)을 활용할 수 있어 인프라 자체 개발이 가능한 상황이다.정부 부처인 행정안전부 내 행정정보공유센터도 중계기관에 이름을 올렸다.국민 신용정보 등을 행안부 내 행정정보공유센터가 다수 보유하고 있어 공유센터를 거쳐야 데이터 유통이 가능하다. 이 때문에 행안부도 중계기관으로 선정됐다.정부가 마이데이터 관련 시행령 발표 이후 중계기관을 조속히 선정함에 따라 올 하반기에 마이데이터 산업은 급물살을 탈 것으로 보인다.지난 13일 금융위는 마이데이터 산업 허가 관련 사전 수요 조사와 예비 컨설팅에 착수했다. 이와 함께 마이데이터 허가(라이선스) 세부 심사 요건도 발표했다. 올 하반기에 데이터 중계와 판매·유통 사업을 본격화하겠다는 것이다. 중계 인프라를 조속히 가동해야 하는 문제가 시급하지만 업권별로 9개 중계기관이 중계 인프라를 구축하는 작업에 곧 착수한다.중계기관 관계자는 “IT 개발 역량이 다소 취약한 중계기관도 포함된 상황이어서 개발이나 인프라 설비 구축을 위한 '중계기관의 중계' 허용이 필요한 상황”이라면서 “중계기관을 통하면 서비스 수준이 균일해지고 업무 편의성도 높아질 수 있어 사업에 만전을 기하겠다”고 분위기를 전했다.\"]"
            ]
          },
          "metadata": {
            "tags": []
          },
          "execution_count": 5
        }
      ]
    },
    {
      "cell_type": "code",
      "metadata": {
        "id": "okHae0CvsY41",
        "colab_type": "code",
        "colab": {
          "base_uri": "https://localhost:8080/",
          "height": 54
        },
        "outputId": "1728d912-a743-4134-aa1a-f1e3439ec823"
      },
      "source": [
        "# 강사님 - 하나의 로직 안에 정규표현까지 끝내서 가지고온다\n",
        "# 핵심 keyword는 replace를 통한 필요없는 문장 날려주기 - 회사의 기사마다 공통적인 모습이 있기에 공통점을 잘 발견하면 된다.\n",
        "import requests \n",
        "from bs4 import BeautifulSoup\n",
        "\n",
        "def get_news_by_url(url):\n",
        "  res = requests.get(url)\n",
        "  bs = BeautifulSoup(res.content, 'html.parser')\n",
        "\n",
        "  content = bs.select('#articleBodyContents')[0].get_text().replace('\\n', \" \")\n",
        "  content = content.replace(\"// flash 오류를 우회하기 위한 함수 추가 function _flash_removeCallback() {}\", \"\")\n",
        "  return content.strip()\n",
        "  \n",
        "\n",
        "\n",
        "docs = []\n",
        "docs.append( get_news_by_url('https://news.naver.com/main/read.nhn?mode=LSD&mid=sec&sid1=105&oid=018&aid=0004430108') )\n",
        "docs.append( get_news_by_url('https://news.naver.com/main/read.nhn?mode=LSD&mid=sec&sid1=101&oid=001&aid=0011614790') )\n",
        "docs.append( get_news_by_url('https://news.naver.com/main/read.nhn?mode=LSD&mid=sec&sid1=102&oid=014&aid=0004424362') )\n",
        "docs.append( get_news_by_url('https://news.naver.com/main/read.nhn?mode=LSD&mid=sec&sid1=101&oid=119&aid=0002402191') )\n",
        "docs.append( get_news_by_url('https://news.naver.com/main/read.nhn?mode=LSD&mid=sec&sid1=101&oid=030&aid=0002882728') )\n",
        "print((docs))"
      ],
      "execution_count": 6,
      "outputs": [
        {
          "output_type": "stream",
          "text": [
            "['과기정통부, 22일 유영민 장관 등 참석해 기념행사2021년까지 1516억원 투입, 5100여종 데이터 구축민간 클라우드 통한 외부연계체계도..\"개방성 강화\"[이데일리 이재운 기자] 국가 차원의 빅데이터 활용 시대가 열린다. 새로운 산업 창출과 기존 산업의 변화에 이르는 ‘혁신성장’을 위한 센터가 문을 연다. 10개 분야에 걸쳐 ‘데이터 경제’의 발전을 위한 정부의 청사진을 현실로 구현하는데 앞장선다는 계획이다.22일 과학기술정보통신부는 서울 중구 대한상공회의소에서 데이터 생태계 조성과 혁신 성장의 기반 마련을 위한 ‘빅데이터 플랫폼 및 센터’ 출범식 행사를 개최했다. 유영민 과기정통부 장관을 비롯해 노웅래 국회 과학기술정보방송통신위원회 위원장 등 300여명이 참가했다.◇10개 분야 100개 센터..3년간 1516억원 투입이미지: 픽사베이빅데이터는 데이터 활용을 통해 혁신성장을 이루자는 문재인 정부의 경제 성장 핵심 요소중 하나다. 문재인 대통령이 직접 올 들어 데이터 활용과 이에 따른 정보보호(보안)에 대한 중요성을 강조하기도 했다.이런 맥락 속에서 빅데이터센터는 공공과 민간이 협업해 활용도 높은 양질의 데이터를 생산·구축하고, 플랫폼은 이를 수집·분석·유통하는 역할을 담당한다. 과기정통부는 분야별 플랫폼 10개소와 이와 연계된 기관별 센터 100개소를 구축하는데 3년간 총 1516억원을 투입할 계획이며, 올해 우선 640억원 규모의 사업을 추진하고 있다.대상 분야는 △금융(BC카드) △환경(한국수자원공사) △문화(한국문화정보원) △교통(한국교통연구원) △헬스케어(국립암센터) △유통·소비(매일방송) △통신(KT) △중소기업(더존비즈온) △지역경제(경기도청) △산림(한국임업진흥원) 등으로 현재 1차 공모를 통해 72개 빅데이터 센터를 선정했고, 다음달 8일까지 2차 공모를 통해 28개를 추가 선정해 총 100개를 지원, 운영할 계획이다. 이를 통해 데이터 생태계를 혁신하고 기업의 경쟁력을 제고하는 역할을 수행한다.주요 활용 전략·사례를 보면 빅데이터 활용을 통해 ‘신(新) 시장’을 창출하는 방안을 담고 있다. 금융 플랫폼의 경우 소상공인 신용평가 고도화 등을 통해 금융 취약 계층 대상 중금리 대출이자를 2%p 절감해 연간 1조원의 신규대출을 창출할 전망이다. 유통·소비와 중소기업 플랫폼은 소상공인이나 중소기업의 폐업률 감소를, 문화 플랫폼은 문화·예술 관람률과 생활체육 참여율을 높이는 방안을 모색한다. 의료비 절감(헬스케어)과 기업의 매출 향상을 통한 산업 육성(통신·산림) 등도 눈길을 끈다.과기정통부 제공◇2021년까지 5100여종 데이터 구축..AI 알고리즘 제공도센터는 우선 분야별 데이터 부족 문제를 해소하기 위해 올해 말까지 시장 수요가 높은 1400여종 신규 데이터를 생산ㆍ구축하고, 사업이 완료되는 2021년까지 총 5100여종 양질의 풍부한 데이터를 생산·구축해 시장에 공급할 계획이다.특히 공공과 민간 사이 데이터 파일형식 등이 달라 호환이 제대로 이뤄지지 못한 문제를 해소하기 위해 개방형 표준을 적용하고, 품질관리기준도 마련해 운영한다.기업들이 실제 활용 가능한 최신 데이터를 확보하는데도 수개월이 소요된다는 문제점을 개선하기 위한 방안도 추진한다. 센터와 플랫폼 간 연계체계에는 민간 클라우드를 기반으로 활용하고, 센터에 축적된 데이터도 계속 외부와 개방·공유하며 최신·연속성을 확보한다는 계획이다.100개 센터에서 수집된 데이터를 융합·분석한 뒤 맞춤형 데이터 제작 등 양질의 데이터로 재생산하고, 기업들이 필요로 하는 데이터를 원하는 형태로 즉시 활용할 수 있도록 제공할 계획이다. 다양한 분석 도구는 물론 인공지능(AI) 학습 알고리즘도 제공해 이용자가 보다 사용하기 편리한 환경을 제공한다.이밖에 필요한 데이터를 쉽게 등록하고 검색할 수 있도록 기준을 마련하고, 데이터 보유와 관리에 대한 체계(거버넌스)를 논의하는 ‘데이터 얼라이언스’를 구성해 보다 안전하게 이용하는 방안도 마련했다.유영민 과기정통부 장관은 “오늘 출범식은 대한민국이 데이터 강국으로 가기 위한 초석을 놓은 자리”라며 “세계 주요국들보다 데이터 경제로 나아가는 발걸음이 다소 늦었지만, 빅데이터 플랫폼과 센터를 지렛대로 우리나라의 낙후된 데이터 생태계를 혁신하고 기업의 경쟁력을 한 단계 제고할 수 있도록 정책적 역량을 집중하겠다”고 밝혔다.이재운 (jwlee@edaily.co.kr)네이버 홈에서 ‘이데일리’ 뉴스 [구독하기▶]꿀잼가득 [영상보기▶] , 청춘뉘우스~ [스냅타임▶]＜ⓒ종합 경제정보 미디어 이데일리 - 무단전재 & 재배포 금지＞', '한국전력공사[한국전력공사 제공]    (나주=연합뉴스) 송형일 기자 = 한국전력은 전력 데이터를 활용한 신(新)서비스 개발 경진대회가 8월 20일 한전 아트센터에서 개최된다고 18일 밝혔다.    산업통상자원부가 주최하고 한전과 전력그룹사, 광주과학기술원이 주관하는 이번 행사는 전력 빅데이터를 활용하는 새로운 사업 모델 발굴을 위해 마련됐다.    대회 참가를 희망하는 학생·일반인, 벤처기업과 새싹기업은 경진대회 홈페이지(http://contest.kepco.co.kr)에서 18일부터 6월 17일까지 제안서를 내면 된다.    1차 서류심사를 통과한 팀이나 개인은 제공된 전력 데이터를 활용해 서비스를 개발하고, 데이터가 외부 반출이 불가한 경우에는 한전 아트센터에 마련된 데이터 공유센터에서 개발한다.    완성도, 기술성, 상용화 가능성, 확장성 등을 기준으로 사내 직원과 사외 전문위원이 함께 평가한다.    시상은 개인(학생·일반인)과 기업 2개의 부문으로 나눠서 진행한다.    최종 선정 팀에는 총 2천150만 원의 상금을 주며, 수상작의 서비스 솔루션은 에너지마켓플레이스(EN:TER)에 등록해 사업화 할 수 있는 기회를 제공한다.    김종갑 한전 사장은 \"한전의 전력 데이터와 다른 공공기관 및 민간의 데이터를 융합해 보다 가치 있는 대국민 편익서비스를 많이 만들어 내길 기대한다\"고 말했다.    nicepen@yna.co.kr▶코로나19 속보는 네이버 연합뉴스에서 [구독 클릭]▶[팩트체크] 등교개학후 확진자 나오면?▶제보하기', \"판교\\xa0자율주행\\xa0실증단지\\xa0자율주행\\xa0데이터\\xa0개방\\xa0사업\\xa0선정 [파이낸셜뉴스 수원=장충식 기자] 경기도는 경기도 자율주행센터에서 수집되는 자율주행 관련 데이터를 공공에 개방한다고 14일 밝혔다.   이는 정부의 2020년 국가중점 데이터 개방 지원 사업에 경기도 자율주행센터의 판교 자율주행 실증단지 자율주행 데이터가 선정된 데 따른 조치로, 오는 6월부터 ‘경기도 자율주행센터 자율주행 데이터 개방 사업’이 추진될 예정이다.   이에 따라 누구나 공공데이터포털 및 경기도자율주행센터포털에 접속하면 판교 자율주행 실증단지에서 수집되는 자율주행 관련 데이터를 별도의 데이터 가공 처리 없이 편리하게 활용할 수 있게 된다.   올 하반기부터 2022년까지 3개년에 걸쳐 자율주행 산업 발전에 필요한 데이터가 공공에 개방될 예정으로, 자율주행 산업 활성화에 기여할 것으로 도는 기대하고 있다.   임문영 경기도 미래성장정책관은 “경기도 자율주행센터는 작년 개소 이후, 건강하고 발전적인 자율주행 생태계 조성을 위해 힘써오고 있다”며 “센터는 앞으로도 경기도의 선진화된 자율주행기술 및 방대한 양의 데이터를 활용해 국내 자율주행 기술 발전에 앞장설 것”이라고 말했다.   한편, 경기도는 차세대융합기술연구원과 함께 자율주행 분야 산업생태계를 구축하기 위해 지난해 5월 경기도 자율주행센터를 출범했다.   운전자 없이 주행이 가능한 자율주행 레벨4 수준의 자율주행차 ‘제로셔틀’ 개발과 스타트업의 실증 테스트 및 빅데이터 서비스 등을 지원하는 등 자율주행 분야의 세계적인 실증단지 구축 및 운영을 위해 꾸준한 지원을 이어가고 있다.    jjang@fnnews.com 장충식 기자   ▶ 헉! 소리나는 스!토리 뉴스 [헉스]▶ '아는 척'하고 싶은 당신을 위한 [두유노우]  ※ 저작권자 ⓒ 파이낸셜뉴스. 무단 전재-재배포 금지\", '통계청·SK텔레콤, 모바일 빅데이터 분석…5월 들어 회복세‘코로나19’ 발생 후 4주차·20대 미만 큰 폭 감소돼코로나19 발생 후 인구 이동을 분석한 결과, 발생 후 4주차 토요일인 2월 29일~3월 1일 가장 큰 폭으로 감소했으며 이후 감소폭이 점차 완화돼 5월 첫째 주를 기해 전년 대비 약 83%로 상당 수준 회복된 것으로 나타났다.인구 이동은 사람 간 접촉 가능성이 상대적으로 높은 상업지역, 관광지, 레저스포츠시설이 대형아울렛이나 주거지역보다 이동량 감소가 큰 편이었으나 5월 초 4일 연휴를 기점으로 관광지와 레저스포츠시설에서 큰 폭으로 늘어난 것으로 파악됐다.이 같은 이동결과는 통계청과 SK텔레콤이 모바일 빅데이터를 기반으로 전국 SKT 가입자의 주중과 주말 인구 이동 정보를 이용해 추정한 결과다.ⓒ코로나19 발생 전후 인구 이동 ⓒ통계청코로나19 발생 전후 대비 ⓒ통계청통계청과 SK텔레콤(시장점유율 약 42%)은 지난해 5월 업무협약을 체결한 이후, 정부혁신의 일환으로 공공·민간 협업을 추진하고 있으며, 통계데이터센터 홈페이지를 통해 모바일 유동인구 지도를 서비스 중이다.분석은 성·연령별, 입지유형별, 17개 시도별로 주중과 주말의 인구 이동 변화를 다각적으로 작년 같은 시기와 비교했으며, 인구 이동은 시·군·구 간 이동을 의미하며 본인이 실거주하는 시·군·구 외 타 시·군·구(행정동)를 30분 이상 방문한 경우를 이동 건수로 집계한 것이다.통계청은 인구 이동량을 등록센서스 인구를 모수로 성과 연령(5세별), 지역(읍·면·동)별 가중치를 적용·추정해본 결과, 코로나19 지역 집단감염(2월20일~29일) 영향으로 발생 후 4주차 토요일(2월29일) 인구 이동량은 작년 같은 주 토요일 대비 가장 큰 폭(-41.9%)으로 감소한 이후 3월부터 감소폭은 점차 완화됐다고 설명했다.이어 발생 후 13주차 토요일인 5월 2일에 상당 수준 회복(약 83%)됐다가 발생 후 14주차 토요일인 5월 9일에는 회복세가 주춤(약 75%)한 것으로 집계됐다.이는 13주차 4일간 연휴(4월30일～5월3일) 기간에 일시 이동량이 크게 늘어난 것으로 보였으며, 특히 연휴가 낀 주말에 코로나19로 인한 인구 이동량 변동이 크게 나타났다.성별·연령별로는 전반적으로 남성보다 여성이, 연령별로는 20세 미만·20대·60대·70세 이상에서 이동량 감소가 큰 편이었다.다만 13주차인 4월 27일〜5월 3일에는 4일간 연휴에 따른 가족 동반 이동이 늘어 여성과 20세 미만의 이동량이 큰 폭으로 늘었다.코로나19 발생 후 입지유형별 이동 ⓒ통계청입지유형별로는 레저스포츠시설이 대형아울렛, 주거지역보다 이동량 감소가 큰 편이었으며, 연휴기간에는 관광지, 레저스포츠시설에서 큰 폭의 증가세를 보였다.입지분류로는 △상업지역 △관광지 △대형아울렛 △사무지역 △레저·스포츠시설 △주거지역 등 6개로 한정했다.시·도별 이동으로는 코로나19 발생 후 제주·강원·부산·대구 등 관광지역이나 대규모 확진자 발생지역을 중심으로 인구 유입이 감소했고, 13주차에는 4일간 연로 전남·전북·충남·강원 등 대도시가 아닌 지역으로 인구 유입이 큰 폭으로 늘어났다.통계청은 앞으로도 각종 사회·경제적 이슈 발생될 때 모바일 빅데이터를 활용해 정부정책에 참고할 수 있는 다양한 기초자료를 제공한다는 방침이다.데일리안 이소희 기자 (aswith@dailian.co.kr)ⓒ (주)데일리안 - 무단전재, 변형, 무단배포 금지', \"금융결제원·신용정보원 등 지정비씨카드 추가 포함 여부도 논의시행령 발표한 후 빠르게 추진하반기 데이터 유통·판매 급물살정부가 금융결제원과 신용정보원 등 업권별 9곳의 마이데이터 중계기관을 선정했다. 14일 서울 중구 한국신용정보원에서 마이데이터 태스크포스(TF)가 마이데이터 전송항목 표준화 관련 실무회의를 진행하고 있다. 이동근기자 foto@etnews.com정부가 미래 신사업으로 떠오른 마이데이터 중계기관 9곳을 최종 선정했다.마이데이터 중계기관은 여러 기관에 흩어져 있는 개인 금융, 비금융 데이터를 한 번에 통합 조회할 때 마이데이터 사업자와 금융기관을 연결, 효율 높게 데이터를 오갈 수 있는 허브 역할을 담당하게 된다. 중계기관이 없는 경우 기업과 금융기관은 별도의 계약을 맺어 데이터를 연결해야 한다. 비효율이 발생한다. 중계기관은 금융기관과 다수 핀테크 사업자 등을 1대 N으로 연결, 데이터 유통과 관리를 중계하는 일종의 정보기술(IT) 인프라를 운영한다.14일 정부와 금융권에 따르면 금융위원회는 마이데이터 중계기관 9곳을 최종 선정, 조만간 인프라 개발 작업에 착수한다.선정된 중계기관은 금융결제원, 신용정보원, 농협중앙회, 수협중앙회, 상호저축은행중앙회, 신협중앙회, 새마을금고중앙회, 코스콤, 행정정보공유센터다.이들 중계기관은 앞으로 업권별·유형별 데이터를 관리·유통하는 허브 역할을 전담한다. 이종산업 간 데이터도 결합하는 마이데이터 산업의 핵심 역할을 담당하게 된다. 9곳 외에 카드데이터 중계 기관으로 프로세싱 인프라를 보유한 비씨카드도 중계기관으로 포함할 것인지에 대한 논의가 진행되고 있는 것으로 알려졌다. 사실상 다수의 데이터를 개별 계약·관리하기보다는 중계기간을 거쳐 더 효율 높게 데이터를 관리하겠다는 전략이다.이보다 앞서 금융위는 마이데이터 산업 활성화를 위한 공청회 등을 열기도 했다. 공청회 당시 중계기관 선정을 놓고 의견이 엇갈렸다.일부 기업은 중계기관이 데이터를 독점할 수 있다는 우려를 지속 제기했고, 다수 금융사와 기업은 마이데이터 산업의 조속한 진흥을 위해 중계기관이 필요하다는 입장을 제시했다.코로나19 여파로 중계기관 간 공식 회의는 아직 열리지 않았지만 인프라 개발과 구축 작업을 위한 논의는 시작됐다. 대형 인프라 설비가 필요하기 때문에 시스템통합(SI)업계에도 사업 기회가 주어질 것으로 전망된다.우선 9개 기관 가운데 마이데이터 중계 핵심 역할은 금융결제원과 신용정보원이 전담할 가능성이 높다. 일부 중계기관의 경우 인프라 개발 경험이 전무하고 데이터를 중계할 수 있는 시스템 자체가 없다.비씨카드를 중계기관으로 허용할지에 대한 논의도 쟁점으로 떠올랐다. 업권을 대변하는 여신금융협회 대신 카드정보 실제 프로세싱을 할 수 있는 비씨카드가 중계 역할에 적합하다는 의견이 제기됐다. 내부에서 의견이 갈리고 있어 시간은 걸릴 수 있다.현재로선 금융결제원과 신용정보원이 데이터 중계를 위한 핵심 인프라 설비와 개발을 도맡을 가능성이 짙다. 그 외 농협중앙회가 농협은행 응용프로그램개발환경(API)을 활용할 수 있어 인프라 자체 개발이 가능한 상황이다.정부 부처인 행정안전부 내 행정정보공유센터도 중계기관에 이름을 올렸다.국민 신용정보 등을 행안부 내 행정정보공유센터가 다수 보유하고 있어 공유센터를 거쳐야 데이터 유통이 가능하다. 이 때문에 행안부도 중계기관으로 선정됐다.정부가 마이데이터 관련 시행령 발표 이후 중계기관을 조속히 선정함에 따라 올 하반기에 마이데이터 산업은 급물살을 탈 것으로 보인다.지난 13일 금융위는 마이데이터 산업 허가 관련 사전 수요 조사와 예비 컨설팅에 착수했다. 이와 함께 마이데이터 허가(라이선스) 세부 심사 요건도 발표했다. 올 하반기에 데이터 중계와 판매·유통 사업을 본격화하겠다는 것이다. 중계 인프라를 조속히 가동해야 하는 문제가 시급하지만 업권별로 9개 중계기관이 중계 인프라를 구축하는 작업에 곧 착수한다.중계기관 관계자는 “IT 개발 역량이 다소 취약한 중계기관도 포함된 상황이어서 개발이나 인프라 설비 구축을 위한 '중계기관의 중계' 허용이 필요한 상황”이라면서 “중계기관을 통하면 서비스 수준이 균일해지고 업무 편의성도 높아질 수 있어 사업에 만전을 기하겠다”고 분위기를 전했다.[표]마이데이터 중계기관 선정 현황길재식기자 osolgil@etnews.com▶ 네이버 홈에서 [전자신문] 구독하기▶ 전자신문 바로가기 [Copyright ⓒ 전자신문 & 전자신문인터넷, 무단전재 및 재배포 금지]\"]\n"
          ],
          "name": "stdout"
        }
      ]
    },
    {
      "cell_type": "markdown",
      "metadata": {
        "id": "Of0dQ_ALpLw6",
        "colab_type": "text"
      },
      "source": [
        "### 1) 전처리"
      ]
    },
    {
      "cell_type": "code",
      "metadata": {
        "id": "tfGX-_IxAbgt",
        "colab_type": "code",
        "colab": {
          "base_uri": "https://localhost:8080/",
          "height": 70
        },
        "outputId": "af78202c-ebfe-4f88-cab3-ea9c9accd6d2"
      },
      "source": [
        "# 전처리 과정을 통해 문장을 단어로 표현하고 그 중에서도 명사와 동사만 가져온다\n",
        "# Mecab을 사용했으며 - 왜 주피터에서는 안되지???일단\n",
        "# mecab.pos(doc) pos를 통해 Mecab으로 분리된 형태를 보여준다.\n",
        "from konlpy.tag import Mecab\n",
        "mecab = Mecab()\n",
        "\n",
        "preprocessed_docs = []\n",
        "token_list = []\n",
        "for doc in docs:\n",
        "    word_list = mecab.pos(doc)\n",
        "    # print(mecab.pos(doc))\n",
        "    for word_info in word_list:\n",
        "        if word_info[1][0] == 'N' or word_info[1] == 'VV': # ''N'은 명사형태 'VV'동사\n",
        "           token_list.append(word_info[0]) #글자만 나오게 NNG안나오게 \n",
        "\n",
        "    # preprocessed_docs.append.append(' '.join([token[0] for token in mecab.pos(doc) if token[1][0] == 'N' or token[1] == 'VV' ])) 하나의 식으로 표현\n",
        "    #token[0]은 글자만 나오게\n",
        "    preprocessed_docs.append(\" \".join(token_list))\n",
        "# # 명사와 동사만으로 문서 전처리\n",
        "print(len(preprocessed_docs))\n",
        "preprocessed_docs[4][:100]"
      ],
      "execution_count": 13,
      "outputs": [
        {
          "output_type": "stream",
          "text": [
            "5\n"
          ],
          "name": "stdout"
        },
        {
          "output_type": "execute_result",
          "data": {
            "application/vnd.google.colaboratory.intrinsic": {
              "type": "string"
            },
            "text/plain": [
              "'과기 정통부 일 유영민 장관 등 참석 기념행사 년 억 원 투입 여종 데이터 구축 민간 클라우드 외부 연계 체계 개방 강화 데일리 이재운 기자 국가 차원 빅 데이터 활용 시대 산업 '"
            ]
          },
          "metadata": {
            "tags": []
          },
          "execution_count": 13
        }
      ]
    },
    {
      "cell_type": "code",
      "metadata": {
        "id": "Xd-PSGYFXyWY",
        "colab_type": "code",
        "colab": {
          "base_uri": "https://localhost:8080/",
          "height": 90
        },
        "outputId": "abb86c93-549b-4e52-9280-09dc34563c09"
      },
      "source": [
        "print(word_list), print(word_info) # word_list 형태소를 분리한것을 나타내고 / word_info????"
      ],
      "execution_count": 17,
      "outputs": [
        {
          "output_type": "stream",
          "text": [
            "[('금융', 'NNG'), ('결제', 'NNG'), ('원', 'NNG'), ('·', 'SC'), ('신용', 'NNG'), ('정보원', 'NNG'), ('등', 'NNB'), ('지정', 'NNG'), ('비씨', 'NNG'), ('카드', 'NNG'), ('추가', 'NNG'), ('포함', 'NNG'), ('여부', 'NNG'), ('도', 'JX'), ('논의', 'NNG'), ('시행령', 'NNG'), ('발표', 'NNG'), ('한', 'XSV+ETM'), ('후', 'NNG'), ('빠르', 'VA'), ('게', 'EC'), ('추진', 'NNG'), ('하반기', 'NNG'), ('데이터', 'NNG'), ('유통', 'NNG'), ('·', 'SC'), ('판매', 'NNG'), ('급물살', 'NNG'), ('정부', 'NNG'), ('가', 'JKS'), ('금융', 'NNG'), ('결제', 'NNG'), ('원', 'NNG'), ('과', 'JC'), ('신용', 'NNG'), ('정보원', 'NNG'), ('등', 'NNB'), ('업', 'NNG'), ('권', 'XSN'), ('별', 'XSN'), ('9', 'SN'), ('곳', 'NNG'), ('의', 'JKG'), ('마이', 'MAG'), ('데이터', 'NNG'), ('중계', 'NNG'), ('기관', 'NNG'), ('을', 'JKO'), ('선정', 'NNG'), ('했', 'XSV+EP'), ('다', 'EF'), ('.', 'SF'), ('14', 'SN'), ('일', 'NNBC'), ('서울', 'NNP'), ('중구', 'NNP'), ('한국', 'NNP'), ('신용', 'NNG'), ('정보원', 'NNG'), ('에서', 'JKB'), ('마이', 'MAG'), ('데이터', 'NNG'), ('태', 'NNG'), ('스', 'XSN'), ('크', 'MAG'), ('포스', 'NNG'), ('(', 'SSO'), ('TF', 'SL'), (')', 'SSC'), ('가', 'JKS'), ('마이', 'MAG'), ('데이터', 'NNG'), ('전송', 'NNG'), ('항목', 'NNG'), ('표준', 'NNG'), ('화', 'XSN'), ('관련', 'NNG'), ('실무', 'NNG'), ('회의', 'NNG'), ('를', 'JKO'), ('진행', 'NNG'), ('하', 'XSV'), ('고', 'EC'), ('있', 'VX'), ('다', 'EF'), ('.', 'SF'), ('이동근', 'NNP'), ('기자', 'NNG'), ('foto', 'SL'), ('@', 'SY'), ('etnews', 'SL'), ('.', 'SY'), ('com', 'SL'), ('정부', 'NNG'), ('가', 'JKS'), ('미래', 'NNG'), ('신사업', 'NNG'), ('으로', 'JKB'), ('떠오른', 'VV+ETM'), ('마이', 'NNP'), ('데이터', 'NNG'), ('중계', 'NNG'), ('기관', 'NNG'), ('9', 'SN'), ('곳', 'NNG'), ('을', 'JKO'), ('최종', 'NNG'), ('선정', 'NNG'), ('했', 'XSV+EP'), ('다', 'EF'), ('.', 'SF'), ('마이', 'MAG'), ('데이터', 'NNG'), ('중계', 'NNG'), ('기관', 'NNG'), ('은', 'JX'), ('여러', 'MM'), ('기관', 'NNG'), ('에', 'JKB'), ('흩어져', 'VV+EC'), ('있', 'VX'), ('는', 'ETM'), ('개인', 'NNG'), ('금융', 'NNG'), (',', 'SC'), ('비', 'XPN'), ('금융', 'NNG'), ('데이터', 'NNG'), ('를', 'JKO'), ('한', 'MM'), ('번', 'NNBC'), ('에', 'JKB'), ('통합', 'NNG'), ('조회', 'NNG'), ('할', 'XSV+ETM'), ('때', 'NNG'), ('마이', 'MAG'), ('데이터', 'NNG'), ('사업자', 'NNG'), ('와', 'JC'), ('금융', 'NNG'), ('기관', 'NNG'), ('을', 'JKO'), ('연결', 'NNG'), (',', 'SC'), ('효율', 'NNG'), ('높', 'VA'), ('게', 'EC'), ('데이터', 'NNG'), ('를', 'JKO'), ('오갈', 'VV+ETM'), ('수', 'NNB'), ('있', 'VV'), ('는', 'ETM'), ('허브', 'NNG'), ('역할', 'NNG'), ('을', 'JKO'), ('담당', 'NNG'), ('하', 'XSV'), ('게', 'EC'), ('된다', 'VV+EF'), ('.', 'SF'), ('중계', 'NNG'), ('기관', 'NNG'), ('이', 'JKS'), ('없', 'VA'), ('는', 'ETM'), ('경우', 'NNG'), ('기업', 'NNG'), ('과', 'JC'), ('금융', 'NNG'), ('기관', 'NNG'), ('은', 'JX'), ('별도', 'NNG'), ('의', 'JKG'), ('계약', 'NNG'), ('을', 'JKO'), ('맺', 'VV'), ('어', 'EC'), ('데이터', 'NNG'), ('를', 'JKO'), ('연결', 'NNG'), ('해야', 'XSV+EC'), ('한다', 'VX+EF'), ('.', 'SF'), ('비효', 'NNG'), ('율', 'XSN'), ('이', 'JKS'), ('발생', 'NNG'), ('한다', 'XSV+EF'), ('.', 'SF'), ('중계', 'NNG'), ('기관', 'NNG'), ('은', 'JX'), ('금융', 'NNG'), ('기관', 'NNG'), ('과', 'JC'), ('다수', 'NNG'), ('핀테크', 'NNG'), ('사업자', 'NNG'), ('등', 'NNB'), ('을', 'JKO'), ('1', 'SN'), ('대', 'NNBC'), ('N', 'SL'), ('으로', 'JKB'), ('연결', 'NNG'), (',', 'SC'), ('데이터', 'NNG'), ('유통', 'NNG'), ('과', 'JC'), ('관리', 'NNG'), ('를', 'JKO'), ('중계', 'NNG'), ('하', 'XSV'), ('는', 'ETM'), ('일종', 'NNG'), ('의', 'JKG'), ('정보', 'NNG'), ('기술', 'NNG'), ('(', 'SSO'), ('IT', 'SL'), (')', 'SSC'), ('인프라', 'NNG'), ('를', 'JKO'), ('운영', 'NNG'), ('한다', 'XSV+EC'), ('.', 'SY'), ('14', 'SN'), ('일', 'NNBC'), ('정부', 'NNG'), ('와', 'JC'), ('금융', 'NNG'), ('권', 'XSN'), ('에', 'JKB'), ('따르', 'VV'), ('면', 'EC'), ('금융', 'NNG'), ('위원회', 'NNG'), ('는', 'JX'), ('마이', 'MAG'), ('데이터', 'NNG'), ('중계', 'NNG'), ('기관', 'NNG'), ('9', 'SN'), ('곳', 'NNG'), ('을', 'JKO'), ('최종', 'NNG'), ('선정', 'NNG'), (',', 'SC'), ('조만간', 'MAG'), ('인프라', 'NNG'), ('개발', 'NNG'), ('작업', 'NNG'), ('에', 'JKB'), ('착수', 'NNG'), ('한다', 'XSV+EF'), ('.', 'SF'), ('선정', 'NNG'), ('된', 'XSV+ETM'), ('중계', 'NNG'), ('기관', 'NNG'), ('은', 'JX'), ('금융', 'NNG'), ('결제', 'NNG'), ('원', 'NNG'), (',', 'SC'), ('신용', 'NNG'), ('정보원', 'NNG'), (',', 'SC'), ('농협', 'NNG'), ('중앙', 'NNG'), ('회', 'XSN'), (',', 'SC'), ('수협', 'NNG'), ('중앙', 'NNG'), ('회', 'XSN'), (',', 'SC'), ('상호저축은행', 'NNP'), ('중앙', 'NNG'), ('회', 'XSN'), (',', 'SC'), ('신협', 'NNP'), ('중앙', 'NNG'), ('회', 'XSN'), (',', 'SC'), ('새', 'MM'), ('마을금고', 'NNG'), ('중앙', 'NNG'), ('회', 'XSN'), (',', 'SC'), ('코스콤', 'NNP'), (',', 'SC'), ('행정', 'NNG'), ('정보', 'NNG'), ('공유', 'NNG'), ('센터', 'NNG'), ('다', 'VCP+EF'), ('.', 'SF'), ('이', 'NP'), ('들', 'XSN'), ('중계', 'NNG'), ('기관', 'NNG'), ('은', 'JX'), ('앞', 'NNG'), ('으로', 'JKB'), ('업', 'NNG'), ('권', 'XSN'), ('별', 'XSN'), ('·', 'SC'), ('유형', 'NNG'), ('별', 'XSN'), ('데이터', 'NNG'), ('를', 'JKO'), ('관리', 'NNG'), ('·', 'SC'), ('유통', 'NNG'), ('하', 'XSV'), ('는', 'ETM'), ('허브', 'NNG'), ('역할', 'NNG'), ('을', 'JKO'), ('전담', 'NNG'), ('한다', 'XSV+EF'), ('.', 'SF'), ('이종', 'NNG'), ('산업', 'NNG'), ('간', 'NNB'), ('데이터', 'NNG'), ('도', 'JX'), ('결합', 'NNG'), ('하', 'XSV'), ('는', 'ETM'), ('마이', 'NNP'), ('데이터', 'NNG'), ('산업', 'NNG'), ('의', 'JKG'), ('핵심', 'NNG'), ('역할', 'NNG'), ('을', 'JKO'), ('담당', 'NNG'), ('하', 'XSV'), ('게', 'EC'), ('된다', 'VV+EF'), ('.', 'SF'), ('9', 'SN'), ('곳', 'NNG'), ('외', 'NNB'), ('에', 'JKB'), ('카드', 'NNG'), ('데이터', 'NNG'), ('중계', 'NNG'), ('기관', 'NNG'), ('으로', 'JKB'), ('프로세싱', 'NNG'), ('인프라', 'NNG'), ('를', 'JKO'), ('보유', 'NNG'), ('한', 'XSV+ETM'), ('비씨카드', 'NNP'), ('도', 'JX'), ('중계', 'NNG'), ('기관', 'NNG'), ('으로', 'JKB'), ('포함', 'NNG'), ('할', 'XSV+ETM'), ('것', 'NNB'), ('인지', 'VCP+EC'), ('에', 'JKB'), ('대한', 'VV+ETM'), ('논의', 'NNG'), ('가', 'JKS'), ('진행', 'NNG'), ('되', 'XSV'), ('고', 'EC'), ('있', 'VX'), ('는', 'ETM'), ('것', 'NNB'), ('으로', 'JKB'), ('알려졌', 'VV+EC+VX+EP'), ('다', 'EF'), ('.', 'SF'), ('사실상', 'MAG'), ('다수', 'NNG'), ('의', 'JKG'), ('데이터', 'NNG'), ('를', 'JKO'), ('개별', 'NNG'), ('계약', 'NNG'), ('·', 'SC'), ('관리', 'NNG'), ('하', 'XSV'), ('기', 'ETN'), ('보다', 'JKB'), ('는', 'JX'), ('중계', 'NNG'), ('기간', 'NNG'), ('을', 'JKO'), ('거쳐', 'VV+EC'), ('더', 'MAG'), ('효율', 'NNG'), ('높', 'VA'), ('게', 'EC'), ('데이터', 'NNG'), ('를', 'JKO'), ('관리', 'NNG'), ('하', 'XSV'), ('겠', 'EP'), ('다는', 'ETM'), ('전략', 'NNG'), ('이', 'VCP'), ('다', 'EF'), ('.', 'SF'), ('이', 'NP'), ('보다', 'JKB'), ('앞서', 'MAG'), ('금융', 'NNG'), ('위', 'NNG'), ('는', 'JX'), ('마이', 'MAG'), ('데이터', 'NNG'), ('산업', 'NNG'), ('활성', 'NNG'), ('화', 'XSN'), ('를', 'JKO'), ('위한', 'VV+ETM'), ('공청회', 'NNG'), ('등', 'NNB'), ('을', 'JKO'), ('열', 'VV'), ('기', 'ETN'), ('도', 'JX'), ('했', 'VV+EP'), ('다', 'EF'), ('.', 'SF'), ('공청회', 'NNG'), ('당시', 'NNG'), ('중계', 'NNG'), ('기관', 'NNG'), ('선정', 'NNG'), ('을', 'JKO'), ('놓', 'VV'), ('고', 'EC'), ('의견', 'NNG'), ('이', 'JKS'), ('엇갈렸', 'VV+EP'), ('다', 'EF'), ('.', 'SF'), ('일부', 'NNG'), ('기업', 'NNG'), ('은', 'JX'), ('중계', 'NNG'), ('기관', 'NNG'), ('이', 'JKS'), ('데이터', 'NNG'), ('를', 'JKO'), ('독점', 'NNG'), ('할', 'XSV+ETM'), ('수', 'NNB'), ('있', 'VV'), ('다는', 'ETM'), ('우려', 'NNG'), ('를', 'JKO'), ('지속', 'NNG'), ('제기', 'NNG'), ('했', 'XSV+EP'), ('고', 'EC'), (',', 'SC'), ('다수', 'NNG'), ('금융', 'NNG'), ('사', 'NNG'), ('와', 'JC'), ('기업', 'NNG'), ('은', 'JX'), ('마이', 'MAG'), ('데이터', 'NNG'), ('산업', 'NNG'), ('의', 'JKG'), ('조속', 'XR'), ('한', 'XSA+ETM'), ('진흥', 'NNG'), ('을', 'JKO'), ('위해', 'VV+EC'), ('중계', 'NNG'), ('기관', 'NNG'), ('이', 'JKS'), ('필요', 'NNG'), ('하', 'XSA'), ('다는', 'ETM'), ('입장', 'NNG'), ('을', 'JKO'), ('제시', 'NNG'), ('했', 'XSV+EP'), ('다', 'EF'), ('.', 'SF'), ('코로나', 'NNP'), ('19', 'SN'), ('여파', 'NNG'), ('로', 'JKB'), ('중계', 'NNG'), ('기관', 'NNG'), ('간', 'NNB'), ('공식', 'NNG'), ('회의', 'NNG'), ('는', 'JX'), ('아직', 'MAG'), ('열리', 'VV'), ('지', 'EC'), ('않', 'VX'), ('았', 'EP'), ('지만', 'EC'), ('인프라', 'NNG'), ('개발', 'NNG'), ('과', 'JC'), ('구축', 'NNG'), ('작업', 'NNG'), ('을', 'JKO'), ('위한', 'VV+ETM'), ('논의', 'NNG'), ('는', 'JX'), ('시작', 'NNG'), ('됐', 'XSV+EP'), ('다', 'EF'), ('.', 'SF'), ('대형', 'NNG'), ('인프라', 'NNG'), ('설비', 'NNG'), ('가', 'JKS'), ('필요', 'NNG'), ('하', 'XSA'), ('기', 'ETN'), ('때문', 'NNB'), ('에', 'JKB'), ('시스템', 'NNG'), ('통합', 'NNG'), ('(', 'SSO'), ('SI', 'SL'), (')', 'SSC'), ('업계', 'NNG'), ('에', 'JKB'), ('도', 'JX'), ('사업', 'NNG'), ('기회', 'NNG'), ('가', 'JKS'), ('주어질', 'VV+ETM'), ('것', 'NNB'), ('으로', 'JKB'), ('전망', 'NNG'), ('된다', 'XSV+EF'), ('.', 'SF'), ('우선', 'MAG'), ('9', 'SN'), ('개', 'NNBC'), ('기관', 'NNG'), ('가운데', 'NNG'), ('마이', 'MAG'), ('데이터', 'NNG'), ('중계', 'NNG'), ('핵심', 'NNG'), ('역할', 'NNG'), ('은', 'JX'), ('금융', 'NNG'), ('결제', 'NNG'), ('원', 'NNG'), ('과', 'JC'), ('신용', 'NNG'), ('정보원', 'NNG'), ('이', 'JKS'), ('전담', 'NNG'), ('할', 'XSV+ETM'), ('가능', 'NNG'), ('성', 'XSN'), ('이', 'JKS'), ('높', 'VA'), ('다', 'EF'), ('.', 'SF'), ('일부', 'NNG'), ('중계', 'NNG'), ('기관', 'NNG'), ('의', 'JKG'), ('경우', 'NNG'), ('인프라', 'NNG'), ('개발', 'NNG'), ('경험', 'NNG'), ('이', 'JKS'), ('전무', 'NNG'), ('하', 'XSV'), ('고', 'EC'), ('데이터', 'NNG'), ('를', 'JKO'), ('중계', 'NNG'), ('할', 'XSV+ETM'), ('수', 'NNB'), ('있', 'VV'), ('는', 'ETM'), ('시스템', 'NNG'), ('자체', 'NNG'), ('가', 'JKS'), ('없', 'VA'), ('다', 'EF'), ('.', 'SF'), ('비씨카드', 'NNP'), ('를', 'JKO'), ('중계', 'NNG'), ('기관', 'NNG'), ('으로', 'JKB'), ('허용', 'NNG'), ('할지', 'XSV+EC'), ('에', 'JKB'), ('대한', 'VV+ETM'), ('논의', 'NNG'), ('도', 'JX'), ('쟁점', 'NNG'), ('으로', 'JKB'), ('떠올랐', 'VV+EP'), ('다', 'EF'), ('.', 'SF'), ('업', 'NNG'), ('권', 'XSN'), ('을', 'JKO'), ('대변', 'NNG'), ('하', 'XSV'), ('는', 'ETM'), ('여신', 'NNG'), ('금융', 'NNG'), ('협회', 'NNG'), ('대신', 'NNG'), ('카드', 'NNG'), ('정보', 'NNG'), ('실제', 'NNG'), ('프로세싱', 'NNG'), ('을', 'JKO'), ('할', 'VV+ETM'), ('수', 'NNB'), ('있', 'VV'), ('는', 'ETM'), ('비씨카드', 'NNP'), ('가', 'JKS'), ('중계', 'NNG'), ('역할', 'NNG'), ('에', 'JKB'), ('적합', 'XR'), ('하', 'XSA'), ('다는', 'ETM'), ('의견', 'NNG'), ('이', 'JKS'), ('제기', 'NNG'), ('됐', 'XSV+EP'), ('다', 'EF'), ('.', 'SF'), ('내부', 'NNG'), ('에서', 'JKB'), ('의견', 'NNG'), ('이', 'JKS'), ('갈리', 'VV'), ('고', 'EC'), ('있', 'VX'), ('어', 'EC'), ('시간', 'NNG'), ('은', 'JX'), ('걸릴', 'VV+ETM'), ('수', 'NNB'), ('있', 'VV'), ('다', 'EF'), ('.', 'SF'), ('현재', 'NNG'), ('로선', 'JKB+JX'), ('금융', 'NNG'), ('결제', 'NNG'), ('원', 'NNG'), ('과', 'JC'), ('신용', 'NNG'), ('정보원', 'NNG'), ('이', 'JKS'), ('데이터', 'NNG'), ('중계', 'NNG'), ('를', 'JKO'), ('위한', 'VV+ETM'), ('핵심', 'NNG'), ('인프라', 'NNG'), ('설비', 'NNG'), ('와', 'JC'), ('개발', 'NNG'), ('을', 'JKO'), ('도맡', 'VV'), ('을', 'ETM'), ('가능', 'NNG'), ('성', 'XSN'), ('이', 'JKS'), ('짙', 'VA'), ('다', 'EF'), ('.', 'SF'), ('그', 'MM'), ('외', 'NNB'), ('농협', 'NNG'), ('중앙', 'NNG'), ('회가', 'NNG'), ('농협', 'NNG'), ('은행', 'NNG'), ('응용', 'NNG'), ('프로그램', 'NNG'), ('개발', 'NNG'), ('환경', 'NNG'), ('(', 'SSO'), ('API', 'SL'), (')', 'SSC'), ('을', 'JKO'), ('활용', 'NNG'), ('할', 'XSV+ETM'), ('수', 'NNB'), ('있', 'VV'), ('어', 'EC'), ('인프라', 'NNG'), ('자체', 'NNG'), ('개발', 'NNG'), ('이', 'JKS'), ('가능', 'NNG'), ('한', 'XSA+ETM'), ('상황', 'NNG'), ('이', 'VCP'), ('다', 'EF'), ('.', 'SF'), ('정부', 'NNG'), ('부처', 'NNG'), ('인', 'VCP+ETM'), ('행정', 'NNG'), ('안', 'MAG'), ('전부', 'MAG'), ('내', 'NP+JKG'), ('행정', 'NNG'), ('정보', 'NNG'), ('공유', 'NNG'), ('센터', 'NNG'), ('도', 'JX'), ('중계', 'NNG'), ('기관', 'NNG'), ('에', 'JKB'), ('이름', 'NNG'), ('을', 'JKO'), ('올렸', 'VV+EP'), ('다', 'EF'), ('.', 'SF'), ('국민', 'NNG'), ('신용', 'NNG'), ('정보', 'NNG'), ('등', 'NNB'), ('을', 'JKO'), ('행안', 'NNP'), ('부', 'NNG'), ('내', 'NNB'), ('행정', 'NNG'), ('정보', 'NNG'), ('공유', 'NNG'), ('센터', 'NNG'), ('가', 'JKS'), ('다수', 'NNG'), ('보유', 'NNG'), ('하', 'XSV'), ('고', 'EC'), ('있', 'VX'), ('어', 'EC'), ('공유', 'NNP'), ('센터', 'NNG'), ('를', 'JKO'), ('거쳐야', 'VV+EC'), ('데이터', 'NNG'), ('유통', 'NNG'), ('이', 'JKS'), ('가능', 'NNG'), ('하', 'XSA'), ('다', 'EF'), ('.', 'SF'), ('이', 'MM'), ('때문', 'NNB'), ('에', 'JKB'), ('행안', 'NNP'), ('부도', 'NNG'), ('중계', 'NNG'), ('기관', 'NNG'), ('으로', 'JKB'), ('선정', 'NNG'), ('됐', 'XSV+EP'), ('다', 'EF'), ('.', 'SF'), ('정부', 'NNG'), ('가', 'JKS'), ('마이', 'MAG'), ('데이터', 'NNG'), ('관련', 'NNG'), ('시행령', 'NNG'), ('발표', 'NNG'), ('이후', 'NNG'), ('중계', 'NNG'), ('기관', 'NNG'), ('을', 'JKO'), ('조속히', 'MAG'), ('선정', 'NNG'), ('함', 'XSV+ETN'), ('에', 'JKB'), ('따라', 'VV+EC'), ('올', 'MM'), ('하반기', 'NNG'), ('에', 'JKB'), ('마이', 'MAG'), ('데이터', 'NNG'), ('산업', 'NNG'), ('은', 'JX'), ('급물살', 'NNG'), ('을', 'JKO'), ('탈', 'VV+ETM'), ('것', 'NNB'), ('으로', 'JKB'), ('보인다', 'VV+EF'), ('.', 'SF'), ('지난', 'VV+ETM'), ('13', 'SN'), ('일', 'NNBC'), ('금융', 'NNG'), ('위', 'NNG'), ('는', 'JX'), ('마이', 'MAG'), ('데이터', 'NNG'), ('산업', 'NNG'), ('허가', 'NNG'), ('관련', 'NNG'), ('사전', 'NNG'), ('수요', 'NNG'), ('조사', 'NNG'), ('와', 'JC'), ('예비', 'NNG'), ('컨설팅', 'NNG'), ('에', 'JKB'), ('착수', 'NNG'), ('했', 'XSV+EP'), ('다', 'EF'), ('.', 'SF'), ('이', 'NP'), ('와', 'JKB'), ('함께', 'MAG'), ('마이', 'MAG'), ('데이터', 'NNG'), ('허가', 'NNG'), ('(', 'SSO'), ('라이선스', 'NNG'), (')', 'SSC'), ('세부', 'NNG'), ('심사', 'NNG'), ('요건', 'NNG'), ('도', 'JX'), ('발표', 'NNG'), ('했', 'XSV+EP'), ('다', 'EF'), ('.', 'SF'), ('올', 'MM'), ('하반기', 'NNG'), ('에', 'JKB'), ('데이터', 'NNG'), ('중계', 'NNG'), ('와', 'JC'), ('판매', 'NNG'), ('·', 'SC'), ('유통', 'NNG'), ('사업', 'NNG'), ('을', 'JKO'), ('본격', 'NNG'), ('화', 'XSN'), ('하', 'XSV'), ('겠', 'EP'), ('다는', 'ETM'), ('것', 'NNB'), ('이', 'VCP'), ('다', 'EF'), ('.', 'SF'), ('중계', 'NNG'), ('인프라', 'NNG'), ('를', 'JKO'), ('조속히', 'MAG'), ('가동', 'NNG'), ('해야', 'XSV+EC'), ('하', 'VV'), ('는', 'ETM'), ('문제', 'NNG'), ('가', 'JKS'), ('시급', 'XR'), ('하', 'XSA'), ('지만', 'EC'), ('업', 'NNG'), ('권', 'XSN'), ('별', 'XSN'), ('로', 'JKB'), ('9', 'SN'), ('개', 'NNBC'), ('중계', 'NNG'), ('기관', 'NNG'), ('이', 'JKS'), ('중계', 'NNG'), ('인프라', 'NNG'), ('를', 'JKO'), ('구축', 'NNG'), ('하', 'XSV'), ('는', 'ETM'), ('작업', 'NNG'), ('에', 'JKB'), ('곧', 'MAG'), ('착수', 'NNG'), ('한다', 'XSV+EF'), ('.', 'SF'), ('중계', 'NNG'), ('기관', 'NNG'), ('관계자', 'NNG'), ('는', 'JX'), ('“', 'SSO'), ('IT', 'SL'), ('개발', 'NNG'), ('역량', 'NNG'), ('이', 'JKS'), ('다소', 'MAG'), ('취약', 'NNG'), ('한', 'XSA+ETM'), ('중계', 'NNG'), ('기관', 'NNG'), ('도', 'JX'), ('포함', 'NNG'), ('된', 'XSV+ETM'), ('상황', 'NNG'), ('이', 'VCP'), ('어서', 'EC'), ('개발', 'NNG'), ('이나', 'JC'), ('인프라', 'NNG'), ('설비', 'NNG'), ('구축', 'NNG'), ('을', 'JKO'), ('위한', 'VV+ETM'), (\"'\", 'SY'), ('중계', 'NNG'), ('기관', 'NNG'), ('의', 'JKG'), ('중계', 'NNG'), (\"'\", 'SY'), ('허용', 'NNG'), ('이', 'JKS'), ('필요', 'NNG'), ('한', 'XSA+ETM'), ('상황', 'NNG'), ('”', 'SSC'), ('이', 'VCP'), ('라면서', 'EC'), ('“', 'SSO'), ('중계', 'NNG'), ('기관', 'NNG'), ('을', 'JKO'), ('통하', 'VV'), ('면', 'EC'), ('서비스', 'NNG'), ('수준', 'NNG'), ('이', 'JKS'), ('균일', 'NNG'), ('해', 'XSV+EC'), ('지', 'VX'), ('고', 'EC'), ('업무', 'NNG'), ('편의', 'NNG'), ('성', 'XSN'), ('도', 'JX'), ('높', 'VA'), ('아', 'EC'), ('질', 'VX+ETM'), ('수', 'NNB'), ('있', 'VV'), ('어', 'EC'), ('사업', 'NNG'), ('에', 'JKB'), ('만전', 'NNG'), ('을', 'JKO'), ('기하', 'VV'), ('겠', 'EP'), ('다', 'EC'), ('”', 'SSC'), ('고', 'EC'), ('분위기', 'NNG'), ('를', 'JKO'), ('전했', 'VV+EP'), ('다', 'EF'), ('.', 'SF'), ('[', 'SSO'), ('표', 'NNG'), (']', 'SSC'), ('마이', 'MAG'), ('데이터', 'NNG'), ('중계', 'NNG'), ('기관', 'NNG'), ('선정', 'NNG'), ('현황', 'NNG'), ('길', 'NNG'), ('재식', 'NNG'), ('기자', 'NNG'), ('osolgil', 'SL'), ('@', 'SY'), ('etnews', 'SL'), ('.', 'SY'), ('com', 'SL'), ('▶', 'SY'), ('네이버', 'NNP'), ('홈', 'NNG'), ('에서', 'JKB'), ('[', 'SSO'), ('전자', 'NNG'), ('신문', 'NNG'), (']', 'SSC'), ('구독', 'NNG'), ('하', 'XSV'), ('기', 'ETN'), ('▶', 'SY'), ('전자', 'NNG'), ('신문', 'NNG'), ('바로', 'MAG'), ('가', 'VV'), ('기', 'ETN'), ('[', 'SSO'), ('Copyright', 'SL'), ('ⓒ', 'SY'), ('전자', 'NNG'), ('신문', 'NNG'), ('&', 'SY'), ('전자', 'NNG'), ('신문', 'NNG'), ('인터넷', 'NNG'), (',', 'SC'), ('무단', 'NNG'), ('전재', 'NNG'), ('및', 'MAJ'), ('재', 'XPN'), ('배포', 'NNG'), ('금지', 'NNG'), (']', 'SSC')]\n",
            "(']', 'SSC')\n"
          ],
          "name": "stdout"
        },
        {
          "output_type": "execute_result",
          "data": {
            "text/plain": [
              "(None, None)"
            ]
          },
          "metadata": {
            "tags": []
          },
          "execution_count": 17
        }
      ]
    },
    {
      "cell_type": "code",
      "metadata": {
        "id": "Z5EJ-JNoX96E",
        "colab_type": "code",
        "colab": {
          "base_uri": "https://localhost:8080/",
          "height": 54
        },
        "outputId": "3fcaa951-1c61-4c45-8151-81f1585dceba"
      },
      "source": [
        "print(token_list) #token list 단어만 나타내고 idx 0번째만 "
      ],
      "execution_count": 16,
      "outputs": [
        {
          "output_type": "stream",
          "text": [
            "['과기', '정통부', '일', '유영민', '장관', '등', '참석', '기념행사', '년', '억', '원', '투입', '여종', '데이터', '구축', '민간', '클라우드', '외부', '연계', '체계', '개방', '강화', '데일리', '이재운', '기자', '국가', '차원', '빅', '데이터', '활용', '시대', '산업', '창출', '기존', '산업', '변화', '이르', '혁신', '장', '센터', '문', '개', '분야', '데이터', '경제', '발전', '정부', '청사진', '현실', '구현', '데', '계획', '일', '과학', '기술', '정보', '통신부', '서울', '중구', '대한', '상공', '회의소', '데이터', '생태', '조성', '혁신', '성장', '기반', '마련', '빅', '데이터', '플랫', '폼', '센터', '출범식', '행사', '개최', '유영민', '과기', '정통부', '장관', '노웅래', '국회', '과학', '기술', '정보', '방송', '통신', '위원회', '위원장', '등', '명', '참가', '개', '분야', '개', '센터', '년', '간', '억', '원', '투입', '이미지', '픽사', '베이', '빅', '데이터', '데이터', '활용', '혁신', '장', '이루', '문재', '정부', '경제', '성장', '핵심', '요소', '중', '하나', '문재인', '대통령', '들', '데이터', '활용', '이', '정보', '보호', '보안', '중요', '강조', '맥락', '속', '빅', '데이터', '센터', '공공', '민간', '협업', '활용', '양질', '데이터', '생산', '구축', '플랫', '폼', '이', '수집', '분석', '유통', '역할', '담당', '과기', '정통부', '분야', '플랫', '폼', '개소', '이', '연계', '기관', '센터', '개소', '구축', '데', '년', '억', '원', '투입', '계획', '올해', '억', '원', '규모', '사업', '추진', '대상', '분야', '금융', '카드', '환경', '한국', '수자원', '공사', '문화', '한국', '문화', '정보원', '교통', '한국', '교통', '연구원', '헬', '스케어', '국립암센터', '유통', '소비', '매일', '방송', '통신', '중소기업', '비즈', '지역', '경제', '경기도', '청', '산림', '한국', '임업', '흥원', '등', '차', '공모', '개', '빅', '데이터', '센터', '선정', '다음', '달', '일', '차', '공모', '개', '추가', '선정', '개', '지원', '운영', '계획', '이', '데이터', '생태계', '혁신', '기업', '경쟁력', '제고', '역할', '수행', '주요', '활용', '전략', '사례', '보', '빅', '데이터', '활용', '신', '新', '시장', '창출', '방안', '담', '금융', '플랫', '폼', '경우', '소', '상공', '신용', '평가', '고도', '등', '금융', '취약', '계층', '대상', '중', '금리', '대출', '절감', '연간', '조', '원', '신규', '대출', '창출', '전망', '유통', '소비', '중소기업', '플랫', '폼', '소상', '공인', '중소기업', '폐업', '감소', '문화', '플랫', '폼', '문화', '예술', '관람', '생활', '체육', '참여', '높이', '방안', '모색', '의료비', '절감', '헬스', '케어', '기업', '매출', '향상', '산업', '육성', '통신', '산림', '등', '눈길', '과기', '정통부', '제공', '년', '여종', '데이터', '구축', '알고리즘', '제공', '센터', '분야', '데이터', '부족', '문제', '해소', '올해', '말', '시장', '수요', '여종', '신규', '데이터', '생산', '구축', '사업', '완료', '년', '여종', '양질', '데이터', '생산', '구축', '시장', '공급', '계획', '공공', '민간', '사이', '데이터', '파일', '형식', '등', '호환', '문제', '해소', '개방', '표준', '적용', '품질', '관리', '기준', '마련', '운영', '기업', '실제', '활용', '가능', '최신', '데이터', '확보', '데', '수개월', '소요', '문제점', '개선', '방안', '추진', '센터', '플랫폼', '간', '연계', '체계', '민간', '클라우드', '기반', '활용', '센터', '축적', '데이터', '외부', '개방', '공유', '최신', '연속', '확보', '계획', '개', '센터', '수집', '데이터', '융합', '분석', '뒤', '맞춤', '데이터', '제작', '등', '양질', '데이터', '생산', '기업', '필요', '하', '데이터', '원하', '형태', '활용', '수', '있', '제공', '계획', '분석', '도구', '인공지능', '학습', '알고리즘', '제공', '이용자', '사용', '편리', '환경', '제공', '밖', '필요', '데이터', '등록', '검색', '수', '있', '기준', '마련', '데이터', '보유', '관리', '체계', '거버넌스', '논의', '데이터', '얼라이언스', '구성', '전하', '이용', '방안', '마련', '유영민', '과기', '정통부', '장관', '오늘', '출범식', '대한민국', '데이터', '강국', '가', '초석', '놓', '자리', '세계', '주요', '국', '데이터', '경제', '나아가', '발걸음', '빅', '데이터', '플랫', '폼', '센터', '지렛대', '우리나라', '낙후', '데이터', '생태계', '혁신', '기업', '경쟁력', '단계', '제고', '수', '있', '정책', '역량', '집중', '이재운', '네이버', '홈', '데일리', '뉴스', '구독', '꿀', '잼', '영상', '보', '청춘', '뉘', '우스', '스냅', '타임', '종합', '경제', '정보', '미디어', '데일리', '무단', '전재', '배포', '금지', '한국전력공사', '한국전력공사', '제공', '나주', '연합뉴스', '송', '일', '기자', '한국전력', '전력', '데이터', '활용', '신', '新', '서비스', '개발', '경진', '대회', '월', '일', '한전', '아트', '센터', '개최', '일', '산업', '통상', '자원', '부', '주최', '한전', '전력', '그룹', '사', '광주', '과학', '기술원', '주관', '이번', '행사', '전력', '빅', '데이터', '활용', '사업', '모델', '발굴', '마련', '대회', '참가', '희망', '학생', '일반인', '벤처', '기업', '새싹', '기업', '경진', '대회', '홈페이지', '일', '월', '일', '제안서', '내', '차', '서류', '심사', '통과', '팀', '개인', '제공', '전력', '데이터', '활용', '서비스', '개발', '데이터', '외부', '반출', '불가', '경우', '한전', '아트', '센터', '마련', '데이터', '공유', '센터', '개발', '완성도', '기술', '상용', '가능', '확장', '등', '기준', '사내', '직원', '사외', '전문', '위원', '평가', '시상', '개인', '학생', '일반인', '기업', '개', '부문', '진행', '최종', '선정', '팀', '천', '만', '원', '상금', '주', '수', '상작', '서비스', '솔루션', '에너지', '마켓', '플레이스', '등록', '사업', '수', '있', '기회', '제공', '김종갑', '한전', '사장', '한전', '전력', '데이터', '공공', '기관', '민간', '데이터', '융합', '가치', '있', '대국민', '편익', '서비스', '만들', '기대', '말', '코로나', '속보', '네이버', '연합뉴스', '구독', '클릭', '팩', '트', '체크', '등교', '개학', '후', '확진', '나오', '제보', '판교', '자율', '주행', '실증', '자율', '주행', '데이터', '개방', '사업', '선정', '파이낸셜', '뉴스', '수원', '장충식', '기자', '경기도', '경기도', '자율', '주행', '센터', '수집', '자율', '주행', '관련', '데이터', '공공', '개방', '일', '이', '정부', '년', '국가', '중점', '데이터', '개방', '지원', '사업', '경기도', '자율', '주행', '센터', '판교', '자율', '주행', '실증', '자율', '주행', '데이터', '선정', '데', '조치', '오', '월', '경기도', '자율', '주행', '센터', '자율', '주행', '데이터', '개방', '사업', '추진', '예정', '이', '누구', '공공', '데이터', '포털', '경기도', '자율', '주행', '센터', '포털', '접속', '판교', '자율', '주행', '실증', '단지', '수집', '자율', '주행', '관련', '데이터', '별도', '데이터', '가공', '처리', '편리', '활용', '수', '있', '하반기', '년', '개년', '자율', '주행', '산업', '발전', '필요', '데이터', '공공', '개방', '예정', '자율', '주행', '산업', '활성', '기여', '것', '도', '기대', '임문영', '경기도', '미래', '장정', '책', '관은', '경기도', '자율', '주행', '센터', '작년', '개소', '이후', '건강', '발전', '자율', '주행', '생태', '조성', '오', '센터', '앞', '경기도', '선진', '자율', '주행', '기술', '양', '데이터', '활용', '국내', '자율', '주행', '기술', '발전', '것', '말', '한편', '경기도', '차세대', '융합', '기술', '연구원', '자율', '주행', '분야', '산업', '생태계', '구축', '지난해', '월', '경기도', '자율', '주행', '센터', '출범', '운전자', '주행', '가능', '자율', '주행', '레벨', '수준', '자율', '주행', '차', '제로', '셔틀', '개발', '스타트업', '실증', '테스트', '빅', '데이터', '서비스', '등', '지원', '등', '자율', '주행', '분야', '세계', '실증', '구축', '운영', '지원', '이', '장충식', '기자', '소리', '나', '토리', '뉴스', '헉', '아', '척', '하', '당신', '두유', '노우', '저작권자', '파이낸셜', '뉴스', '무단', '전재', '배포', '금지', '통계청', '텔레콤', '모바일', '빅', '데이터', '분석', '월', '들', '회복세', '코로나', '발생', '후', '주', '대', '미만', '폭', '감소', '코로나', '발생', '후', '인구', '이동', '분석', '결과', '발생', '후', '주', '토요일', '월', '일', '월', '일', '폭', '감소', '이후', '감소', '폭', '완화', '월', '첫째', '주', '전년', '대비', '상당', '수준', '회복', '것', '인구', '이동은', '사람', '간', '접촉', '가능', '상대', '상업', '지역', '관광지', '레저', '스포츠', '시설', '대형', '아울렛', '주거', '지역', '동량', '감소', '편', '월', '초', '일', '연휴', '기점', '관광지', '레저', '스포츠', '시설', '폭', '것', '파악', '이동결', '통계청', '텔레콤', '모바일', '빅', '데이터', '기반', '전국', '가입자', '주중', '주말', '인구', '이동', '정보', '이용', '추정', '결과', '코로나', '발생', '전후', '인구', '이동', '통계청', '코로나', '발생', '전후', '대비', '통계청', '통계청', '텔레콤', '시장', '점유', '지난해', '월', '업무', '협약', '체결', '이후', '정부', '혁신', '일환', '공공', '민간', '협업', '추진', '통계', '데이터', '센터', '홈페이지', '모바일', '유동', '인구', '지도', '서비스', '중', '분석', '성', '연령', '입지', '유형', '개', '시도', '주중', '주말', '인구', '이동', '변화', '다각', '작년', '시기', '비교', '인구', '이동은', '시', '군', '구', '간', '이동', '의미', '본인', '실거', '주', '시', '군', '구', '외', '시', '군', '구', '행정동', '분', '이상', '방문', '경우', '이동', '건수', '집계', '것', '통계청', '인구', '동량', '등록', '센서스', '인구', '모수', '성과', '연령', '세별', '지역', '면', '동', '가중치', '적용', '추정', '결과', '코로나', '지역', '집단', '감염', '월', '일', '일', '영향', '발생', '후', '주', '토요일', '월', '일', '인구', '동량', '작년', '주', '토요일', '대비', '폭', '감소', '이후', '월', '감소', '폭', '완화', '설명', '발생', '후', '주', '토요일', '월', '일', '상당', '수준', '회복', '발생', '후', '주', '토요일', '월', '일', '회복세', '것', '집계', '이', '주', '일', '간', '연휴', '월', '일', '월', '일', '기간', '동량', '것', '연휴', '주말', '코로나', '인구', '동량', '변동', '성별', '연령', '전반', '남성', '여성', '연령', '세', '미만', '대', '대', '세', '이상', '동량', '감소', '편', '주', '월', '일', '월', '일', '일', '간', '연휴', '가족', '동반', '이동', '늘', '여성', '세', '미만', '동량', '폭', '늘', '코로나', '발생', '후', '입지', '유형', '이동', '통계청', '입지', '유형', '레저', '스포츠', '시설', '대형', '아울렛', '주거', '지역', '동량', '감소', '편', '연휴', '기간', '관광지', '레저', '스포츠', '시설', '폭', '증가세', '입지', '분류', '상업', '지역', '관광지', '대형', '아울렛', '사무', '지역', '레저', '스포츠', '시설', '주거', '지역', '등', '개', '한정', '시', '도', '이동', '코로나', '발생', '후', '제주', '강원', '부산', '대구', '등', '관광', '지역', '규모', '확진', '발생', '지역', '중심', '인구', '유입', '감소', '주', '일', '간', '연', '전남', '전북', '충남', '강원', '등', '도시', '지역', '인구', '유입', '폭', '통계청', '앞', '각종', '사회', '경제', '이슈', '발생', '때', '모바일', '빅', '데이터', '활용', '정부', '정책', '참고', '수', '있', '기초', '자료', '제공', '방침', '데일리안', '이소희', '기자', '주', '데일리안', '무단', '전재', '변형', '무단', '배포', '금지', '금융', '결제', '원', '신용', '정보원', '등', '지정', '비씨', '카드', '추가', '포함', '여부', '논의', '시행령', '발표', '후', '추진', '하반기', '데이터', '유통', '판매', '급물살', '정부', '금융', '결제', '원', '신용', '정보원', '등', '업', '곳', '데이터', '중계', '기관', '선정', '일', '서울', '중구', '한국', '신용', '정보원', '데이터', '태', '포스', '데이터', '전송', '항목', '표준', '관련', '실무', '회의', '진행', '이동근', '기자', '정부', '미래', '신사업', '마이', '데이터', '중계', '기관', '곳', '최종', '선정', '데이터', '중계', '기관', '기관', '개인', '금융', '금융', '데이터', '번', '통합', '조회', '때', '데이터', '사업자', '금융', '기관', '연결', '효율', '데이터', '수', '있', '허브', '역할', '담당', '중계', '기관', '경우', '기업', '금융', '기관', '별도', '계약', '맺', '데이터', '연결', '비효', '발생', '중계', '기관', '금융', '기관', '다수', '핀테크', '사업자', '등', '대', '연결', '데이터', '유통', '관리', '중계', '일종', '정보', '기술', '인프라', '운영', '일', '정부', '금융', '따르', '금융', '위원회', '데이터', '중계', '기관', '곳', '최종', '선정', '인프라', '개발', '작업', '착수', '선정', '중계', '기관', '금융', '결제', '원', '신용', '정보원', '농협', '중앙', '수협', '중앙', '상호저축은행', '중앙', '신협', '중앙', '마을금고', '중앙', '코스콤', '행정', '정보', '공유', '센터', '이', '중계', '기관', '앞', '업', '유형', '데이터', '관리', '유통', '허브', '역할', '전담', '이종', '산업', '간', '데이터', '결합', '마이', '데이터', '산업', '핵심', '역할', '담당', '곳', '외', '카드', '데이터', '중계', '기관', '프로세싱', '인프라', '보유', '비씨카드', '중계', '기관', '포함', '것', '논의', '진행', '것', '다수', '데이터', '개별', '계약', '관리', '중계', '기간', '효율', '데이터', '관리', '전략', '이', '금융', '위', '데이터', '산업', '활성', '공청회', '등', '열', '공청회', '당시', '중계', '기관', '선정', '놓', '의견', '일부', '기업', '중계', '기관', '데이터', '독점', '수', '있', '우려', '지속', '제기', '다수', '금융', '사', '기업', '데이터', '산업', '진흥', '중계', '기관', '필요', '입장', '제시', '코로나', '여파', '중계', '기관', '간', '공식', '회의', '열리', '인프라', '개발', '구축', '작업', '논의', '시작', '대형', '인프라', '설비', '필요', '때문', '시스템', '통합', '업계', '사업', '기회', '것', '전망', '개', '기관', '가운데', '데이터', '중계', '핵심', '역할', '금융', '결제', '원', '신용', '정보원', '전담', '가능', '일부', '중계', '기관', '경우', '인프라', '개발', '경험', '전무', '데이터', '중계', '수', '있', '시스템', '자체', '비씨카드', '중계', '기관', '허용', '논의', '쟁점', '업', '대변', '여신', '금융', '협회', '대신', '카드', '정보', '실제', '프로세싱', '수', '있', '비씨카드', '중계', '역할', '의견', '제기', '내부', '의견', '갈리', '시간', '수', '있', '현재', '금융', '결제', '원', '신용', '정보원', '데이터', '중계', '핵심', '인프라', '설비', '개발', '도맡', '가능', '외', '농협', '중앙', '회가', '농협', '은행', '응용', '프로그램', '개발', '환경', '활용', '수', '있', '인프라', '자체', '개발', '가능', '상황', '정부', '부처', '행정', '내', '행정', '정보', '공유', '센터', '중계', '기관', '이름', '국민', '신용', '정보', '등', '행안', '부', '내', '행정', '정보', '공유', '센터', '다수', '보유', '공유', '센터', '데이터', '유통', '가능', '때문', '행안', '부도', '중계', '기관', '선정', '정부', '데이터', '관련', '시행령', '발표', '이후', '중계', '기관', '선정', '하반기', '데이터', '산업', '급물살', '것', '일', '금융', '위', '데이터', '산업', '허가', '관련', '사전', '수요', '조사', '예비', '컨설팅', '착수', '이', '데이터', '허가', '라이선스', '세부', '심사', '요건', '발표', '하반기', '데이터', '중계', '판매', '유통', '사업', '본격', '것', '중계', '인프라', '가동', '하', '문제', '업', '개', '중계', '기관', '중계', '인프라', '구축', '작업', '착수', '중계', '기관', '관계자', '개발', '역량', '취약', '중계', '기관', '포함', '상황', '개발', '인프라', '설비', '구축', '중계', '기관', '중계', '허용', '필요', '상황', '중계', '기관', '통하', '서비스', '수준', '균일', '업무', '편의', '수', '있', '사업', '만전', '기하', '분위기', '표', '데이터', '중계', '기관', '선정', '현황', '길', '재식', '기자', '네이버', '홈', '전자', '신문', '구독', '전자', '신문', '가', '전자', '신문', '전자', '신문', '인터넷', '무단', '전재', '배포', '금지']\n"
          ],
          "name": "stdout"
        }
      ]
    },
    {
      "cell_type": "code",
      "metadata": {
        "id": "LB-mapPlYvZJ",
        "colab_type": "code",
        "colab": {
          "base_uri": "https://localhost:8080/",
          "height": 54
        },
        "outputId": "eaab4c14-617d-4b69-edb0-4ace58c65206"
      },
      "source": [
        "print(preprocessed_docs) # 다시 문장 형식으로 나타내 준다."
      ],
      "execution_count": 18,
      "outputs": [
        {
          "output_type": "stream",
          "text": [
            "['과기 정통부 일 유영민 장관 등 참석 기념행사 년 억 원 투입 여종 데이터 구축 민간 클라우드 외부 연계 체계 개방 강화 데일리 이재운 기자 국가 차원 빅 데이터 활용 시대 산업 창출 기존 산업 변화 이르 혁신 장 센터 문 개 분야 데이터 경제 발전 정부 청사진 현실 구현 데 계획 일 과학 기술 정보 통신부 서울 중구 대한 상공 회의소 데이터 생태 조성 혁신 성장 기반 마련 빅 데이터 플랫 폼 센터 출범식 행사 개최 유영민 과기 정통부 장관 노웅래 국회 과학 기술 정보 방송 통신 위원회 위원장 등 명 참가 개 분야 개 센터 년 간 억 원 투입 이미지 픽사 베이 빅 데이터 데이터 활용 혁신 장 이루 문재 정부 경제 성장 핵심 요소 중 하나 문재인 대통령 들 데이터 활용 이 정보 보호 보안 중요 강조 맥락 속 빅 데이터 센터 공공 민간 협업 활용 양질 데이터 생산 구축 플랫 폼 이 수집 분석 유통 역할 담당 과기 정통부 분야 플랫 폼 개소 이 연계 기관 센터 개소 구축 데 년 억 원 투입 계획 올해 억 원 규모 사업 추진 대상 분야 금융 카드 환경 한국 수자원 공사 문화 한국 문화 정보원 교통 한국 교통 연구원 헬 스케어 국립암센터 유통 소비 매일 방송 통신 중소기업 비즈 지역 경제 경기도 청 산림 한국 임업 흥원 등 차 공모 개 빅 데이터 센터 선정 다음 달 일 차 공모 개 추가 선정 개 지원 운영 계획 이 데이터 생태계 혁신 기업 경쟁력 제고 역할 수행 주요 활용 전략 사례 보 빅 데이터 활용 신 新 시장 창출 방안 담 금융 플랫 폼 경우 소 상공 신용 평가 고도 등 금융 취약 계층 대상 중 금리 대출 절감 연간 조 원 신규 대출 창출 전망 유통 소비 중소기업 플랫 폼 소상 공인 중소기업 폐업 감소 문화 플랫 폼 문화 예술 관람 생활 체육 참여 높이 방안 모색 의료비 절감 헬스 케어 기업 매출 향상 산업 육성 통신 산림 등 눈길 과기 정통부 제공 년 여종 데이터 구축 알고리즘 제공 센터 분야 데이터 부족 문제 해소 올해 말 시장 수요 여종 신규 데이터 생산 구축 사업 완료 년 여종 양질 데이터 생산 구축 시장 공급 계획 공공 민간 사이 데이터 파일 형식 등 호환 문제 해소 개방 표준 적용 품질 관리 기준 마련 운영 기업 실제 활용 가능 최신 데이터 확보 데 수개월 소요 문제점 개선 방안 추진 센터 플랫폼 간 연계 체계 민간 클라우드 기반 활용 센터 축적 데이터 외부 개방 공유 최신 연속 확보 계획 개 센터 수집 데이터 융합 분석 뒤 맞춤 데이터 제작 등 양질 데이터 생산 기업 필요 하 데이터 원하 형태 활용 수 있 제공 계획 분석 도구 인공지능 학습 알고리즘 제공 이용자 사용 편리 환경 제공 밖 필요 데이터 등록 검색 수 있 기준 마련 데이터 보유 관리 체계 거버넌스 논의 데이터 얼라이언스 구성 전하 이용 방안 마련 유영민 과기 정통부 장관 오늘 출범식 대한민국 데이터 강국 가 초석 놓 자리 세계 주요 국 데이터 경제 나아가 발걸음 빅 데이터 플랫 폼 센터 지렛대 우리나라 낙후 데이터 생태계 혁신 기업 경쟁력 단계 제고 수 있 정책 역량 집중 이재운 네이버 홈 데일리 뉴스 구독 꿀 잼 영상 보 청춘 뉘 우스 스냅 타임 종합 경제 정보 미디어 데일리 무단 전재 배포 금지', '과기 정통부 일 유영민 장관 등 참석 기념행사 년 억 원 투입 여종 데이터 구축 민간 클라우드 외부 연계 체계 개방 강화 데일리 이재운 기자 국가 차원 빅 데이터 활용 시대 산업 창출 기존 산업 변화 이르 혁신 장 센터 문 개 분야 데이터 경제 발전 정부 청사진 현실 구현 데 계획 일 과학 기술 정보 통신부 서울 중구 대한 상공 회의소 데이터 생태 조성 혁신 성장 기반 마련 빅 데이터 플랫 폼 센터 출범식 행사 개최 유영민 과기 정통부 장관 노웅래 국회 과학 기술 정보 방송 통신 위원회 위원장 등 명 참가 개 분야 개 센터 년 간 억 원 투입 이미지 픽사 베이 빅 데이터 데이터 활용 혁신 장 이루 문재 정부 경제 성장 핵심 요소 중 하나 문재인 대통령 들 데이터 활용 이 정보 보호 보안 중요 강조 맥락 속 빅 데이터 센터 공공 민간 협업 활용 양질 데이터 생산 구축 플랫 폼 이 수집 분석 유통 역할 담당 과기 정통부 분야 플랫 폼 개소 이 연계 기관 센터 개소 구축 데 년 억 원 투입 계획 올해 억 원 규모 사업 추진 대상 분야 금융 카드 환경 한국 수자원 공사 문화 한국 문화 정보원 교통 한국 교통 연구원 헬 스케어 국립암센터 유통 소비 매일 방송 통신 중소기업 비즈 지역 경제 경기도 청 산림 한국 임업 흥원 등 차 공모 개 빅 데이터 센터 선정 다음 달 일 차 공모 개 추가 선정 개 지원 운영 계획 이 데이터 생태계 혁신 기업 경쟁력 제고 역할 수행 주요 활용 전략 사례 보 빅 데이터 활용 신 新 시장 창출 방안 담 금융 플랫 폼 경우 소 상공 신용 평가 고도 등 금융 취약 계층 대상 중 금리 대출 절감 연간 조 원 신규 대출 창출 전망 유통 소비 중소기업 플랫 폼 소상 공인 중소기업 폐업 감소 문화 플랫 폼 문화 예술 관람 생활 체육 참여 높이 방안 모색 의료비 절감 헬스 케어 기업 매출 향상 산업 육성 통신 산림 등 눈길 과기 정통부 제공 년 여종 데이터 구축 알고리즘 제공 센터 분야 데이터 부족 문제 해소 올해 말 시장 수요 여종 신규 데이터 생산 구축 사업 완료 년 여종 양질 데이터 생산 구축 시장 공급 계획 공공 민간 사이 데이터 파일 형식 등 호환 문제 해소 개방 표준 적용 품질 관리 기준 마련 운영 기업 실제 활용 가능 최신 데이터 확보 데 수개월 소요 문제점 개선 방안 추진 센터 플랫폼 간 연계 체계 민간 클라우드 기반 활용 센터 축적 데이터 외부 개방 공유 최신 연속 확보 계획 개 센터 수집 데이터 융합 분석 뒤 맞춤 데이터 제작 등 양질 데이터 생산 기업 필요 하 데이터 원하 형태 활용 수 있 제공 계획 분석 도구 인공지능 학습 알고리즘 제공 이용자 사용 편리 환경 제공 밖 필요 데이터 등록 검색 수 있 기준 마련 데이터 보유 관리 체계 거버넌스 논의 데이터 얼라이언스 구성 전하 이용 방안 마련 유영민 과기 정통부 장관 오늘 출범식 대한민국 데이터 강국 가 초석 놓 자리 세계 주요 국 데이터 경제 나아가 발걸음 빅 데이터 플랫 폼 센터 지렛대 우리나라 낙후 데이터 생태계 혁신 기업 경쟁력 단계 제고 수 있 정책 역량 집중 이재운 네이버 홈 데일리 뉴스 구독 꿀 잼 영상 보 청춘 뉘 우스 스냅 타임 종합 경제 정보 미디어 데일리 무단 전재 배포 금지 한국전력공사 한국전력공사 제공 나주 연합뉴스 송 일 기자 한국전력 전력 데이터 활용 신 新 서비스 개발 경진 대회 월 일 한전 아트 센터 개최 일 산업 통상 자원 부 주최 한전 전력 그룹 사 광주 과학 기술원 주관 이번 행사 전력 빅 데이터 활용 사업 모델 발굴 마련 대회 참가 희망 학생 일반인 벤처 기업 새싹 기업 경진 대회 홈페이지 일 월 일 제안서 내 차 서류 심사 통과 팀 개인 제공 전력 데이터 활용 서비스 개발 데이터 외부 반출 불가 경우 한전 아트 센터 마련 데이터 공유 센터 개발 완성도 기술 상용 가능 확장 등 기준 사내 직원 사외 전문 위원 평가 시상 개인 학생 일반인 기업 개 부문 진행 최종 선정 팀 천 만 원 상금 주 수 상작 서비스 솔루션 에너지 마켓 플레이스 등록 사업 수 있 기회 제공 김종갑 한전 사장 한전 전력 데이터 공공 기관 민간 데이터 융합 가치 있 대국민 편익 서비스 만들 기대 말 코로나 속보 네이버 연합뉴스 구독 클릭 팩 트 체크 등교 개학 후 확진 나오 제보', '과기 정통부 일 유영민 장관 등 참석 기념행사 년 억 원 투입 여종 데이터 구축 민간 클라우드 외부 연계 체계 개방 강화 데일리 이재운 기자 국가 차원 빅 데이터 활용 시대 산업 창출 기존 산업 변화 이르 혁신 장 센터 문 개 분야 데이터 경제 발전 정부 청사진 현실 구현 데 계획 일 과학 기술 정보 통신부 서울 중구 대한 상공 회의소 데이터 생태 조성 혁신 성장 기반 마련 빅 데이터 플랫 폼 센터 출범식 행사 개최 유영민 과기 정통부 장관 노웅래 국회 과학 기술 정보 방송 통신 위원회 위원장 등 명 참가 개 분야 개 센터 년 간 억 원 투입 이미지 픽사 베이 빅 데이터 데이터 활용 혁신 장 이루 문재 정부 경제 성장 핵심 요소 중 하나 문재인 대통령 들 데이터 활용 이 정보 보호 보안 중요 강조 맥락 속 빅 데이터 센터 공공 민간 협업 활용 양질 데이터 생산 구축 플랫 폼 이 수집 분석 유통 역할 담당 과기 정통부 분야 플랫 폼 개소 이 연계 기관 센터 개소 구축 데 년 억 원 투입 계획 올해 억 원 규모 사업 추진 대상 분야 금융 카드 환경 한국 수자원 공사 문화 한국 문화 정보원 교통 한국 교통 연구원 헬 스케어 국립암센터 유통 소비 매일 방송 통신 중소기업 비즈 지역 경제 경기도 청 산림 한국 임업 흥원 등 차 공모 개 빅 데이터 센터 선정 다음 달 일 차 공모 개 추가 선정 개 지원 운영 계획 이 데이터 생태계 혁신 기업 경쟁력 제고 역할 수행 주요 활용 전략 사례 보 빅 데이터 활용 신 新 시장 창출 방안 담 금융 플랫 폼 경우 소 상공 신용 평가 고도 등 금융 취약 계층 대상 중 금리 대출 절감 연간 조 원 신규 대출 창출 전망 유통 소비 중소기업 플랫 폼 소상 공인 중소기업 폐업 감소 문화 플랫 폼 문화 예술 관람 생활 체육 참여 높이 방안 모색 의료비 절감 헬스 케어 기업 매출 향상 산업 육성 통신 산림 등 눈길 과기 정통부 제공 년 여종 데이터 구축 알고리즘 제공 센터 분야 데이터 부족 문제 해소 올해 말 시장 수요 여종 신규 데이터 생산 구축 사업 완료 년 여종 양질 데이터 생산 구축 시장 공급 계획 공공 민간 사이 데이터 파일 형식 등 호환 문제 해소 개방 표준 적용 품질 관리 기준 마련 운영 기업 실제 활용 가능 최신 데이터 확보 데 수개월 소요 문제점 개선 방안 추진 센터 플랫폼 간 연계 체계 민간 클라우드 기반 활용 센터 축적 데이터 외부 개방 공유 최신 연속 확보 계획 개 센터 수집 데이터 융합 분석 뒤 맞춤 데이터 제작 등 양질 데이터 생산 기업 필요 하 데이터 원하 형태 활용 수 있 제공 계획 분석 도구 인공지능 학습 알고리즘 제공 이용자 사용 편리 환경 제공 밖 필요 데이터 등록 검색 수 있 기준 마련 데이터 보유 관리 체계 거버넌스 논의 데이터 얼라이언스 구성 전하 이용 방안 마련 유영민 과기 정통부 장관 오늘 출범식 대한민국 데이터 강국 가 초석 놓 자리 세계 주요 국 데이터 경제 나아가 발걸음 빅 데이터 플랫 폼 센터 지렛대 우리나라 낙후 데이터 생태계 혁신 기업 경쟁력 단계 제고 수 있 정책 역량 집중 이재운 네이버 홈 데일리 뉴스 구독 꿀 잼 영상 보 청춘 뉘 우스 스냅 타임 종합 경제 정보 미디어 데일리 무단 전재 배포 금지 한국전력공사 한국전력공사 제공 나주 연합뉴스 송 일 기자 한국전력 전력 데이터 활용 신 新 서비스 개발 경진 대회 월 일 한전 아트 센터 개최 일 산업 통상 자원 부 주최 한전 전력 그룹 사 광주 과학 기술원 주관 이번 행사 전력 빅 데이터 활용 사업 모델 발굴 마련 대회 참가 희망 학생 일반인 벤처 기업 새싹 기업 경진 대회 홈페이지 일 월 일 제안서 내 차 서류 심사 통과 팀 개인 제공 전력 데이터 활용 서비스 개발 데이터 외부 반출 불가 경우 한전 아트 센터 마련 데이터 공유 센터 개발 완성도 기술 상용 가능 확장 등 기준 사내 직원 사외 전문 위원 평가 시상 개인 학생 일반인 기업 개 부문 진행 최종 선정 팀 천 만 원 상금 주 수 상작 서비스 솔루션 에너지 마켓 플레이스 등록 사업 수 있 기회 제공 김종갑 한전 사장 한전 전력 데이터 공공 기관 민간 데이터 융합 가치 있 대국민 편익 서비스 만들 기대 말 코로나 속보 네이버 연합뉴스 구독 클릭 팩 트 체크 등교 개학 후 확진 나오 제보 판교 자율 주행 실증 자율 주행 데이터 개방 사업 선정 파이낸셜 뉴스 수원 장충식 기자 경기도 경기도 자율 주행 센터 수집 자율 주행 관련 데이터 공공 개방 일 이 정부 년 국가 중점 데이터 개방 지원 사업 경기도 자율 주행 센터 판교 자율 주행 실증 자율 주행 데이터 선정 데 조치 오 월 경기도 자율 주행 센터 자율 주행 데이터 개방 사업 추진 예정 이 누구 공공 데이터 포털 경기도 자율 주행 센터 포털 접속 판교 자율 주행 실증 단지 수집 자율 주행 관련 데이터 별도 데이터 가공 처리 편리 활용 수 있 하반기 년 개년 자율 주행 산업 발전 필요 데이터 공공 개방 예정 자율 주행 산업 활성 기여 것 도 기대 임문영 경기도 미래 장정 책 관은 경기도 자율 주행 센터 작년 개소 이후 건강 발전 자율 주행 생태 조성 오 센터 앞 경기도 선진 자율 주행 기술 양 데이터 활용 국내 자율 주행 기술 발전 것 말 한편 경기도 차세대 융합 기술 연구원 자율 주행 분야 산업 생태계 구축 지난해 월 경기도 자율 주행 센터 출범 운전자 주행 가능 자율 주행 레벨 수준 자율 주행 차 제로 셔틀 개발 스타트업 실증 테스트 빅 데이터 서비스 등 지원 등 자율 주행 분야 세계 실증 구축 운영 지원 이 장충식 기자 소리 나 토리 뉴스 헉 아 척 하 당신 두유 노우 저작권자 파이낸셜 뉴스 무단 전재 배포 금지', '과기 정통부 일 유영민 장관 등 참석 기념행사 년 억 원 투입 여종 데이터 구축 민간 클라우드 외부 연계 체계 개방 강화 데일리 이재운 기자 국가 차원 빅 데이터 활용 시대 산업 창출 기존 산업 변화 이르 혁신 장 센터 문 개 분야 데이터 경제 발전 정부 청사진 현실 구현 데 계획 일 과학 기술 정보 통신부 서울 중구 대한 상공 회의소 데이터 생태 조성 혁신 성장 기반 마련 빅 데이터 플랫 폼 센터 출범식 행사 개최 유영민 과기 정통부 장관 노웅래 국회 과학 기술 정보 방송 통신 위원회 위원장 등 명 참가 개 분야 개 센터 년 간 억 원 투입 이미지 픽사 베이 빅 데이터 데이터 활용 혁신 장 이루 문재 정부 경제 성장 핵심 요소 중 하나 문재인 대통령 들 데이터 활용 이 정보 보호 보안 중요 강조 맥락 속 빅 데이터 센터 공공 민간 협업 활용 양질 데이터 생산 구축 플랫 폼 이 수집 분석 유통 역할 담당 과기 정통부 분야 플랫 폼 개소 이 연계 기관 센터 개소 구축 데 년 억 원 투입 계획 올해 억 원 규모 사업 추진 대상 분야 금융 카드 환경 한국 수자원 공사 문화 한국 문화 정보원 교통 한국 교통 연구원 헬 스케어 국립암센터 유통 소비 매일 방송 통신 중소기업 비즈 지역 경제 경기도 청 산림 한국 임업 흥원 등 차 공모 개 빅 데이터 센터 선정 다음 달 일 차 공모 개 추가 선정 개 지원 운영 계획 이 데이터 생태계 혁신 기업 경쟁력 제고 역할 수행 주요 활용 전략 사례 보 빅 데이터 활용 신 新 시장 창출 방안 담 금융 플랫 폼 경우 소 상공 신용 평가 고도 등 금융 취약 계층 대상 중 금리 대출 절감 연간 조 원 신규 대출 창출 전망 유통 소비 중소기업 플랫 폼 소상 공인 중소기업 폐업 감소 문화 플랫 폼 문화 예술 관람 생활 체육 참여 높이 방안 모색 의료비 절감 헬스 케어 기업 매출 향상 산업 육성 통신 산림 등 눈길 과기 정통부 제공 년 여종 데이터 구축 알고리즘 제공 센터 분야 데이터 부족 문제 해소 올해 말 시장 수요 여종 신규 데이터 생산 구축 사업 완료 년 여종 양질 데이터 생산 구축 시장 공급 계획 공공 민간 사이 데이터 파일 형식 등 호환 문제 해소 개방 표준 적용 품질 관리 기준 마련 운영 기업 실제 활용 가능 최신 데이터 확보 데 수개월 소요 문제점 개선 방안 추진 센터 플랫폼 간 연계 체계 민간 클라우드 기반 활용 센터 축적 데이터 외부 개방 공유 최신 연속 확보 계획 개 센터 수집 데이터 융합 분석 뒤 맞춤 데이터 제작 등 양질 데이터 생산 기업 필요 하 데이터 원하 형태 활용 수 있 제공 계획 분석 도구 인공지능 학습 알고리즘 제공 이용자 사용 편리 환경 제공 밖 필요 데이터 등록 검색 수 있 기준 마련 데이터 보유 관리 체계 거버넌스 논의 데이터 얼라이언스 구성 전하 이용 방안 마련 유영민 과기 정통부 장관 오늘 출범식 대한민국 데이터 강국 가 초석 놓 자리 세계 주요 국 데이터 경제 나아가 발걸음 빅 데이터 플랫 폼 센터 지렛대 우리나라 낙후 데이터 생태계 혁신 기업 경쟁력 단계 제고 수 있 정책 역량 집중 이재운 네이버 홈 데일리 뉴스 구독 꿀 잼 영상 보 청춘 뉘 우스 스냅 타임 종합 경제 정보 미디어 데일리 무단 전재 배포 금지 한국전력공사 한국전력공사 제공 나주 연합뉴스 송 일 기자 한국전력 전력 데이터 활용 신 新 서비스 개발 경진 대회 월 일 한전 아트 센터 개최 일 산업 통상 자원 부 주최 한전 전력 그룹 사 광주 과학 기술원 주관 이번 행사 전력 빅 데이터 활용 사업 모델 발굴 마련 대회 참가 희망 학생 일반인 벤처 기업 새싹 기업 경진 대회 홈페이지 일 월 일 제안서 내 차 서류 심사 통과 팀 개인 제공 전력 데이터 활용 서비스 개발 데이터 외부 반출 불가 경우 한전 아트 센터 마련 데이터 공유 센터 개발 완성도 기술 상용 가능 확장 등 기준 사내 직원 사외 전문 위원 평가 시상 개인 학생 일반인 기업 개 부문 진행 최종 선정 팀 천 만 원 상금 주 수 상작 서비스 솔루션 에너지 마켓 플레이스 등록 사업 수 있 기회 제공 김종갑 한전 사장 한전 전력 데이터 공공 기관 민간 데이터 융합 가치 있 대국민 편익 서비스 만들 기대 말 코로나 속보 네이버 연합뉴스 구독 클릭 팩 트 체크 등교 개학 후 확진 나오 제보 판교 자율 주행 실증 자율 주행 데이터 개방 사업 선정 파이낸셜 뉴스 수원 장충식 기자 경기도 경기도 자율 주행 센터 수집 자율 주행 관련 데이터 공공 개방 일 이 정부 년 국가 중점 데이터 개방 지원 사업 경기도 자율 주행 센터 판교 자율 주행 실증 자율 주행 데이터 선정 데 조치 오 월 경기도 자율 주행 센터 자율 주행 데이터 개방 사업 추진 예정 이 누구 공공 데이터 포털 경기도 자율 주행 센터 포털 접속 판교 자율 주행 실증 단지 수집 자율 주행 관련 데이터 별도 데이터 가공 처리 편리 활용 수 있 하반기 년 개년 자율 주행 산업 발전 필요 데이터 공공 개방 예정 자율 주행 산업 활성 기여 것 도 기대 임문영 경기도 미래 장정 책 관은 경기도 자율 주행 센터 작년 개소 이후 건강 발전 자율 주행 생태 조성 오 센터 앞 경기도 선진 자율 주행 기술 양 데이터 활용 국내 자율 주행 기술 발전 것 말 한편 경기도 차세대 융합 기술 연구원 자율 주행 분야 산업 생태계 구축 지난해 월 경기도 자율 주행 센터 출범 운전자 주행 가능 자율 주행 레벨 수준 자율 주행 차 제로 셔틀 개발 스타트업 실증 테스트 빅 데이터 서비스 등 지원 등 자율 주행 분야 세계 실증 구축 운영 지원 이 장충식 기자 소리 나 토리 뉴스 헉 아 척 하 당신 두유 노우 저작권자 파이낸셜 뉴스 무단 전재 배포 금지 통계청 텔레콤 모바일 빅 데이터 분석 월 들 회복세 코로나 발생 후 주 대 미만 폭 감소 코로나 발생 후 인구 이동 분석 결과 발생 후 주 토요일 월 일 월 일 폭 감소 이후 감소 폭 완화 월 첫째 주 전년 대비 상당 수준 회복 것 인구 이동은 사람 간 접촉 가능 상대 상업 지역 관광지 레저 스포츠 시설 대형 아울렛 주거 지역 동량 감소 편 월 초 일 연휴 기점 관광지 레저 스포츠 시설 폭 것 파악 이동결 통계청 텔레콤 모바일 빅 데이터 기반 전국 가입자 주중 주말 인구 이동 정보 이용 추정 결과 코로나 발생 전후 인구 이동 통계청 코로나 발생 전후 대비 통계청 통계청 텔레콤 시장 점유 지난해 월 업무 협약 체결 이후 정부 혁신 일환 공공 민간 협업 추진 통계 데이터 센터 홈페이지 모바일 유동 인구 지도 서비스 중 분석 성 연령 입지 유형 개 시도 주중 주말 인구 이동 변화 다각 작년 시기 비교 인구 이동은 시 군 구 간 이동 의미 본인 실거 주 시 군 구 외 시 군 구 행정동 분 이상 방문 경우 이동 건수 집계 것 통계청 인구 동량 등록 센서스 인구 모수 성과 연령 세별 지역 면 동 가중치 적용 추정 결과 코로나 지역 집단 감염 월 일 일 영향 발생 후 주 토요일 월 일 인구 동량 작년 주 토요일 대비 폭 감소 이후 월 감소 폭 완화 설명 발생 후 주 토요일 월 일 상당 수준 회복 발생 후 주 토요일 월 일 회복세 것 집계 이 주 일 간 연휴 월 일 월 일 기간 동량 것 연휴 주말 코로나 인구 동량 변동 성별 연령 전반 남성 여성 연령 세 미만 대 대 세 이상 동량 감소 편 주 월 일 월 일 일 간 연휴 가족 동반 이동 늘 여성 세 미만 동량 폭 늘 코로나 발생 후 입지 유형 이동 통계청 입지 유형 레저 스포츠 시설 대형 아울렛 주거 지역 동량 감소 편 연휴 기간 관광지 레저 스포츠 시설 폭 증가세 입지 분류 상업 지역 관광지 대형 아울렛 사무 지역 레저 스포츠 시설 주거 지역 등 개 한정 시 도 이동 코로나 발생 후 제주 강원 부산 대구 등 관광 지역 규모 확진 발생 지역 중심 인구 유입 감소 주 일 간 연 전남 전북 충남 강원 등 도시 지역 인구 유입 폭 통계청 앞 각종 사회 경제 이슈 발생 때 모바일 빅 데이터 활용 정부 정책 참고 수 있 기초 자료 제공 방침 데일리안 이소희 기자 주 데일리안 무단 전재 변형 무단 배포 금지', '과기 정통부 일 유영민 장관 등 참석 기념행사 년 억 원 투입 여종 데이터 구축 민간 클라우드 외부 연계 체계 개방 강화 데일리 이재운 기자 국가 차원 빅 데이터 활용 시대 산업 창출 기존 산업 변화 이르 혁신 장 센터 문 개 분야 데이터 경제 발전 정부 청사진 현실 구현 데 계획 일 과학 기술 정보 통신부 서울 중구 대한 상공 회의소 데이터 생태 조성 혁신 성장 기반 마련 빅 데이터 플랫 폼 센터 출범식 행사 개최 유영민 과기 정통부 장관 노웅래 국회 과학 기술 정보 방송 통신 위원회 위원장 등 명 참가 개 분야 개 센터 년 간 억 원 투입 이미지 픽사 베이 빅 데이터 데이터 활용 혁신 장 이루 문재 정부 경제 성장 핵심 요소 중 하나 문재인 대통령 들 데이터 활용 이 정보 보호 보안 중요 강조 맥락 속 빅 데이터 센터 공공 민간 협업 활용 양질 데이터 생산 구축 플랫 폼 이 수집 분석 유통 역할 담당 과기 정통부 분야 플랫 폼 개소 이 연계 기관 센터 개소 구축 데 년 억 원 투입 계획 올해 억 원 규모 사업 추진 대상 분야 금융 카드 환경 한국 수자원 공사 문화 한국 문화 정보원 교통 한국 교통 연구원 헬 스케어 국립암센터 유통 소비 매일 방송 통신 중소기업 비즈 지역 경제 경기도 청 산림 한국 임업 흥원 등 차 공모 개 빅 데이터 센터 선정 다음 달 일 차 공모 개 추가 선정 개 지원 운영 계획 이 데이터 생태계 혁신 기업 경쟁력 제고 역할 수행 주요 활용 전략 사례 보 빅 데이터 활용 신 新 시장 창출 방안 담 금융 플랫 폼 경우 소 상공 신용 평가 고도 등 금융 취약 계층 대상 중 금리 대출 절감 연간 조 원 신규 대출 창출 전망 유통 소비 중소기업 플랫 폼 소상 공인 중소기업 폐업 감소 문화 플랫 폼 문화 예술 관람 생활 체육 참여 높이 방안 모색 의료비 절감 헬스 케어 기업 매출 향상 산업 육성 통신 산림 등 눈길 과기 정통부 제공 년 여종 데이터 구축 알고리즘 제공 센터 분야 데이터 부족 문제 해소 올해 말 시장 수요 여종 신규 데이터 생산 구축 사업 완료 년 여종 양질 데이터 생산 구축 시장 공급 계획 공공 민간 사이 데이터 파일 형식 등 호환 문제 해소 개방 표준 적용 품질 관리 기준 마련 운영 기업 실제 활용 가능 최신 데이터 확보 데 수개월 소요 문제점 개선 방안 추진 센터 플랫폼 간 연계 체계 민간 클라우드 기반 활용 센터 축적 데이터 외부 개방 공유 최신 연속 확보 계획 개 센터 수집 데이터 융합 분석 뒤 맞춤 데이터 제작 등 양질 데이터 생산 기업 필요 하 데이터 원하 형태 활용 수 있 제공 계획 분석 도구 인공지능 학습 알고리즘 제공 이용자 사용 편리 환경 제공 밖 필요 데이터 등록 검색 수 있 기준 마련 데이터 보유 관리 체계 거버넌스 논의 데이터 얼라이언스 구성 전하 이용 방안 마련 유영민 과기 정통부 장관 오늘 출범식 대한민국 데이터 강국 가 초석 놓 자리 세계 주요 국 데이터 경제 나아가 발걸음 빅 데이터 플랫 폼 센터 지렛대 우리나라 낙후 데이터 생태계 혁신 기업 경쟁력 단계 제고 수 있 정책 역량 집중 이재운 네이버 홈 데일리 뉴스 구독 꿀 잼 영상 보 청춘 뉘 우스 스냅 타임 종합 경제 정보 미디어 데일리 무단 전재 배포 금지 한국전력공사 한국전력공사 제공 나주 연합뉴스 송 일 기자 한국전력 전력 데이터 활용 신 新 서비스 개발 경진 대회 월 일 한전 아트 센터 개최 일 산업 통상 자원 부 주최 한전 전력 그룹 사 광주 과학 기술원 주관 이번 행사 전력 빅 데이터 활용 사업 모델 발굴 마련 대회 참가 희망 학생 일반인 벤처 기업 새싹 기업 경진 대회 홈페이지 일 월 일 제안서 내 차 서류 심사 통과 팀 개인 제공 전력 데이터 활용 서비스 개발 데이터 외부 반출 불가 경우 한전 아트 센터 마련 데이터 공유 센터 개발 완성도 기술 상용 가능 확장 등 기준 사내 직원 사외 전문 위원 평가 시상 개인 학생 일반인 기업 개 부문 진행 최종 선정 팀 천 만 원 상금 주 수 상작 서비스 솔루션 에너지 마켓 플레이스 등록 사업 수 있 기회 제공 김종갑 한전 사장 한전 전력 데이터 공공 기관 민간 데이터 융합 가치 있 대국민 편익 서비스 만들 기대 말 코로나 속보 네이버 연합뉴스 구독 클릭 팩 트 체크 등교 개학 후 확진 나오 제보 판교 자율 주행 실증 자율 주행 데이터 개방 사업 선정 파이낸셜 뉴스 수원 장충식 기자 경기도 경기도 자율 주행 센터 수집 자율 주행 관련 데이터 공공 개방 일 이 정부 년 국가 중점 데이터 개방 지원 사업 경기도 자율 주행 센터 판교 자율 주행 실증 자율 주행 데이터 선정 데 조치 오 월 경기도 자율 주행 센터 자율 주행 데이터 개방 사업 추진 예정 이 누구 공공 데이터 포털 경기도 자율 주행 센터 포털 접속 판교 자율 주행 실증 단지 수집 자율 주행 관련 데이터 별도 데이터 가공 처리 편리 활용 수 있 하반기 년 개년 자율 주행 산업 발전 필요 데이터 공공 개방 예정 자율 주행 산업 활성 기여 것 도 기대 임문영 경기도 미래 장정 책 관은 경기도 자율 주행 센터 작년 개소 이후 건강 발전 자율 주행 생태 조성 오 센터 앞 경기도 선진 자율 주행 기술 양 데이터 활용 국내 자율 주행 기술 발전 것 말 한편 경기도 차세대 융합 기술 연구원 자율 주행 분야 산업 생태계 구축 지난해 월 경기도 자율 주행 센터 출범 운전자 주행 가능 자율 주행 레벨 수준 자율 주행 차 제로 셔틀 개발 스타트업 실증 테스트 빅 데이터 서비스 등 지원 등 자율 주행 분야 세계 실증 구축 운영 지원 이 장충식 기자 소리 나 토리 뉴스 헉 아 척 하 당신 두유 노우 저작권자 파이낸셜 뉴스 무단 전재 배포 금지 통계청 텔레콤 모바일 빅 데이터 분석 월 들 회복세 코로나 발생 후 주 대 미만 폭 감소 코로나 발생 후 인구 이동 분석 결과 발생 후 주 토요일 월 일 월 일 폭 감소 이후 감소 폭 완화 월 첫째 주 전년 대비 상당 수준 회복 것 인구 이동은 사람 간 접촉 가능 상대 상업 지역 관광지 레저 스포츠 시설 대형 아울렛 주거 지역 동량 감소 편 월 초 일 연휴 기점 관광지 레저 스포츠 시설 폭 것 파악 이동결 통계청 텔레콤 모바일 빅 데이터 기반 전국 가입자 주중 주말 인구 이동 정보 이용 추정 결과 코로나 발생 전후 인구 이동 통계청 코로나 발생 전후 대비 통계청 통계청 텔레콤 시장 점유 지난해 월 업무 협약 체결 이후 정부 혁신 일환 공공 민간 협업 추진 통계 데이터 센터 홈페이지 모바일 유동 인구 지도 서비스 중 분석 성 연령 입지 유형 개 시도 주중 주말 인구 이동 변화 다각 작년 시기 비교 인구 이동은 시 군 구 간 이동 의미 본인 실거 주 시 군 구 외 시 군 구 행정동 분 이상 방문 경우 이동 건수 집계 것 통계청 인구 동량 등록 센서스 인구 모수 성과 연령 세별 지역 면 동 가중치 적용 추정 결과 코로나 지역 집단 감염 월 일 일 영향 발생 후 주 토요일 월 일 인구 동량 작년 주 토요일 대비 폭 감소 이후 월 감소 폭 완화 설명 발생 후 주 토요일 월 일 상당 수준 회복 발생 후 주 토요일 월 일 회복세 것 집계 이 주 일 간 연휴 월 일 월 일 기간 동량 것 연휴 주말 코로나 인구 동량 변동 성별 연령 전반 남성 여성 연령 세 미만 대 대 세 이상 동량 감소 편 주 월 일 월 일 일 간 연휴 가족 동반 이동 늘 여성 세 미만 동량 폭 늘 코로나 발생 후 입지 유형 이동 통계청 입지 유형 레저 스포츠 시설 대형 아울렛 주거 지역 동량 감소 편 연휴 기간 관광지 레저 스포츠 시설 폭 증가세 입지 분류 상업 지역 관광지 대형 아울렛 사무 지역 레저 스포츠 시설 주거 지역 등 개 한정 시 도 이동 코로나 발생 후 제주 강원 부산 대구 등 관광 지역 규모 확진 발생 지역 중심 인구 유입 감소 주 일 간 연 전남 전북 충남 강원 등 도시 지역 인구 유입 폭 통계청 앞 각종 사회 경제 이슈 발생 때 모바일 빅 데이터 활용 정부 정책 참고 수 있 기초 자료 제공 방침 데일리안 이소희 기자 주 데일리안 무단 전재 변형 무단 배포 금지 금융 결제 원 신용 정보원 등 지정 비씨 카드 추가 포함 여부 논의 시행령 발표 후 추진 하반기 데이터 유통 판매 급물살 정부 금융 결제 원 신용 정보원 등 업 곳 데이터 중계 기관 선정 일 서울 중구 한국 신용 정보원 데이터 태 포스 데이터 전송 항목 표준 관련 실무 회의 진행 이동근 기자 정부 미래 신사업 마이 데이터 중계 기관 곳 최종 선정 데이터 중계 기관 기관 개인 금융 금융 데이터 번 통합 조회 때 데이터 사업자 금융 기관 연결 효율 데이터 수 있 허브 역할 담당 중계 기관 경우 기업 금융 기관 별도 계약 맺 데이터 연결 비효 발생 중계 기관 금융 기관 다수 핀테크 사업자 등 대 연결 데이터 유통 관리 중계 일종 정보 기술 인프라 운영 일 정부 금융 따르 금융 위원회 데이터 중계 기관 곳 최종 선정 인프라 개발 작업 착수 선정 중계 기관 금융 결제 원 신용 정보원 농협 중앙 수협 중앙 상호저축은행 중앙 신협 중앙 마을금고 중앙 코스콤 행정 정보 공유 센터 이 중계 기관 앞 업 유형 데이터 관리 유통 허브 역할 전담 이종 산업 간 데이터 결합 마이 데이터 산업 핵심 역할 담당 곳 외 카드 데이터 중계 기관 프로세싱 인프라 보유 비씨카드 중계 기관 포함 것 논의 진행 것 다수 데이터 개별 계약 관리 중계 기간 효율 데이터 관리 전략 이 금융 위 데이터 산업 활성 공청회 등 열 공청회 당시 중계 기관 선정 놓 의견 일부 기업 중계 기관 데이터 독점 수 있 우려 지속 제기 다수 금융 사 기업 데이터 산업 진흥 중계 기관 필요 입장 제시 코로나 여파 중계 기관 간 공식 회의 열리 인프라 개발 구축 작업 논의 시작 대형 인프라 설비 필요 때문 시스템 통합 업계 사업 기회 것 전망 개 기관 가운데 데이터 중계 핵심 역할 금융 결제 원 신용 정보원 전담 가능 일부 중계 기관 경우 인프라 개발 경험 전무 데이터 중계 수 있 시스템 자체 비씨카드 중계 기관 허용 논의 쟁점 업 대변 여신 금융 협회 대신 카드 정보 실제 프로세싱 수 있 비씨카드 중계 역할 의견 제기 내부 의견 갈리 시간 수 있 현재 금융 결제 원 신용 정보원 데이터 중계 핵심 인프라 설비 개발 도맡 가능 외 농협 중앙 회가 농협 은행 응용 프로그램 개발 환경 활용 수 있 인프라 자체 개발 가능 상황 정부 부처 행정 내 행정 정보 공유 센터 중계 기관 이름 국민 신용 정보 등 행안 부 내 행정 정보 공유 센터 다수 보유 공유 센터 데이터 유통 가능 때문 행안 부도 중계 기관 선정 정부 데이터 관련 시행령 발표 이후 중계 기관 선정 하반기 데이터 산업 급물살 것 일 금융 위 데이터 산업 허가 관련 사전 수요 조사 예비 컨설팅 착수 이 데이터 허가 라이선스 세부 심사 요건 발표 하반기 데이터 중계 판매 유통 사업 본격 것 중계 인프라 가동 하 문제 업 개 중계 기관 중계 인프라 구축 작업 착수 중계 기관 관계자 개발 역량 취약 중계 기관 포함 상황 개발 인프라 설비 구축 중계 기관 중계 허용 필요 상황 중계 기관 통하 서비스 수준 균일 업무 편의 수 있 사업 만전 기하 분위기 표 데이터 중계 기관 선정 현황 길 재식 기자 네이버 홈 전자 신문 구독 전자 신문 가 전자 신문 전자 신문 인터넷 무단 전재 배포 금지']\n"
          ],
          "name": "stdout"
        }
      ]
    },
    {
      "cell_type": "markdown",
      "metadata": {
        "id": "JqZ9ONgLpOzv",
        "colab_type": "text"
      },
      "source": [
        "### 2) TF-IDF 계산"
      ]
    },
    {
      "cell_type": "code",
      "metadata": {
        "id": "Okub07GQ-KJe",
        "colab_type": "code",
        "colab": {
          "base_uri": "https://localhost:8080/",
          "height": 54
        },
        "outputId": "b43f9cb1-bb74-4660-d32c-0afee6ff1dae"
      },
      "source": [
        "#BoW 생성\n",
        "from sklearn.feature_extraction.text import CountVectorizer\n",
        "\n",
        "count_vect = CountVectorizer(max_df=0.85, max_features=10000) \n",
        "#max_df 비율 정하기 85퍼센트 이상 나타난 것은 계산에서 제외\n",
        "#max_features\n",
        "DTM = count_vect.fit_transform(preprocessed_docs)\n",
        "list(count_vect.vocabulary_.keys())[:10] # vocabulary_.keys()공부하자\n",
        "\n"
      ],
      "execution_count": 19,
      "outputs": [
        {
          "output_type": "execute_result",
          "data": {
            "text/plain": [
              "['한국전력공사', '나주', '연합뉴스', '한국전력', '전력', '서비스', '개발', '경진', '대회', '한전']"
            ]
          },
          "metadata": {
            "tags": []
          },
          "execution_count": 19
        }
      ]
    },
    {
      "cell_type": "code",
      "metadata": {
        "id": "MRCuE52-ZP43",
        "colab_type": "code",
        "colab": {}
      },
      "source": [
        "print(DTM)"
      ],
      "execution_count": null,
      "outputs": []
    },
    {
      "cell_type": "code",
      "metadata": {
        "id": "em3l3IS5kRP-",
        "colab_type": "code",
        "colab": {
          "base_uri": "https://localhost:8080/",
          "height": 34
        },
        "outputId": "9e030713-3862-4195-e48a-4112c986998b"
      },
      "source": [
        "#tfidf 생성\n",
        "from sklearn.feature_extraction.text import TfidfTransformer\n",
        "\n",
        "tfidf_transformer = TfidfTransformer(smooth_idf=True)\n",
        "tfidf_transformer.fit(DTM) \n",
        "\n"
      ],
      "execution_count": 25,
      "outputs": [
        {
          "output_type": "execute_result",
          "data": {
            "text/plain": [
              "TfidfTransformer(norm='l2', smooth_idf=True, sublinear_tf=False, use_idf=True)"
            ]
          },
          "metadata": {
            "tags": []
          },
          "execution_count": 25
        }
      ]
    },
    {
      "cell_type": "code",
      "metadata": {
        "id": "rwl6QtQ5ZeRO",
        "colab_type": "code",
        "colab": {
          "base_uri": "https://localhost:8080/",
          "height": 34
        },
        "outputId": "313e3e96-67a2-45fd-afd9-97de0c30e9a5"
      },
      "source": [
        "print(tfidf_transformer)"
      ],
      "execution_count": 26,
      "outputs": [
        {
          "output_type": "stream",
          "text": [
            "TfidfTransformer(norm='l2', smooth_idf=True, sublinear_tf=False, use_idf=True)\n"
          ],
          "name": "stdout"
        }
      ]
    },
    {
      "cell_type": "markdown",
      "metadata": {
        "id": "an6Cngd2Cwjg",
        "colab_type": "text"
      },
      "source": [
        "### 3) 핵심키워드 추출"
      ]
    },
    {
      "cell_type": "code",
      "metadata": {
        "id": "yKrcZ9rh-5Rt",
        "colab_type": "code",
        "colab": {}
      },
      "source": [
        "def sort_keywords(keywords):\n",
        "  return sorted(zip(keywords.col, keywords.data), key=lambda x: (x[1], x[0]), reverse=True)\n",
        "    #키워드 sort\n",
        "    \n",
        "def extract_keywords(feature_names, sorted_keywords, n=5):\n",
        "    #키워드 추출\n",
        "\n",
        "    return [(feature_names[idx], score) for (idx, score) in sorted_keywords[:n]] "
      ],
      "execution_count": 34,
      "outputs": []
    },
    {
      "cell_type": "code",
      "metadata": {
        "id": "u_8wXmex-1gr",
        "colab_type": "code",
        "colab": {
          "base_uri": "https://localhost:8080/",
          "height": 125
        },
        "outputId": "fabfb42c-1a72-47aa-f5a2-dfbb6e0d06e0"
      },
      "source": [
        "doc = preprocessed_docs[0] # 핵심키워드 추출할 문서 조회\n",
        "\n",
        "feature_names = count_vect.get_feature_names() # TF-IDF 단어 목록\n",
        "# print(feature_names)\n",
        "tf_idf_vector = tfidf_transformer.transform(count_vect.transform([doc])) # 문서의 tf-idf 추출\n",
        "#print(tf_idf_vector)\n",
        "sorted_keywords = sort_keywords(tf_idf_vector.tocoo()) # TF-IDF를 기준으로 역순 정렬\n",
        " \n",
        "# # 사용자가 지정한 갯수만큼 키워드 추출\n",
        "keywords = extract_keywords(feature_names, sorted_keywords, 5)\n",
        " \n",
        "print(\"\\n===== 원문 =====\")\n",
        "print(docs[0][:100])\n",
        "print(\"\\n=== 핵심키워드 ===\")\n",
        "for k in keywords:\n",
        "    print(k)"
      ],
      "execution_count": 33,
      "outputs": [
        {
          "output_type": "stream",
          "text": [
            "\n",
            "===== 원문 =====\n",
            "과기정통부, 22일 유영민 장관 등 참석해 기념행사2021년까지 1516억원 투입, 5100여종 데이터 구축민간 클라우드 통한 외부연계체계도..\"개방성 강화\"[이데일리 이재운 기자\n",
            "\n",
            "=== 핵심키워드 ===\n"
          ],
          "name": "stdout"
        }
      ]
    },
    {
      "cell_type": "code",
      "metadata": {
        "id": "PmTR7IpAVCxD",
        "colab_type": "code",
        "colab": {
          "base_uri": "https://localhost:8080/",
          "height": 54
        },
        "outputId": "f3f3f83a-6e0c-4609-9089-564711397ffa"
      },
      "source": [
        "print(feature_names)"
      ],
      "execution_count": 29,
      "outputs": [
        {
          "output_type": "stream",
          "text": [
            "['가공', '가동', '가운데', '가입자', '가족', '가중치', '가치', '각종', '갈리', '감염', '강원', '개년', '개발', '개별', '개인', '개학', '건강', '건수', '결과', '결제', '결합', '경진', '경험', '계약', '공식', '공청회', '관계자', '관광', '관광지', '관련', '관은', '광주', '국내', '국민', '균일', '그룹', '급물살', '기간', '기대', '기술원', '기여', '기점', '기초', '기하', '기회', '김종갑', '나오', '나주', '남성', '내부', '노우', '농협', '누구', '다각', '다수', '단지', '당시', '당신', '대구', '대국민', '대변', '대비', '대신', '대형', '대회', '데일리안', '도맡', '도시', '독점', '동량', '동반', '두유', '등교', '따르', '때문', '라이선스', '레벨', '레저', '마을금고', '마이', '마켓', '만들', '만전', '모델', '모바일', '모수', '미래', '미만', '반출', '발굴', '발생', '발표', '방문', '방침', '벤처', '변동', '변형', '별도', '본격', '본인', '부도', '부문', '부산', '부처', '분류', '분위기', '불가', '비교', '비씨', '비씨카드', '비효', '사내', '사람', '사무', '사업자', '사외', '사장', '사전', '사회', '상금', '상당', '상대', '상업', '상용', '상작', '상호저축은행', '상황', '새싹', '서류', '서비스', '선진', '설명', '설비', '성과', '성별', '세별', '세부', '센서스', '셔틀', '소리', '속보', '솔루션', '수원', '수준', '수협', '스타트업', '스포츠', '시간', '시기', '시도', '시상', '시설', '시스템', '시작', '시행령', '신문', '신사업', '신협', '실거', '실무', '실증', '심사', '아울렛', '아트', '업계', '업무', '에너지', '여부', '여성', '여신', '여파', '연결', '연령', '연합뉴스', '연휴', '열리', '영향', '예비', '예정', '완성도', '완화', '요건', '우려', '운전자', '위원', '유동', '유입', '유형', '은행', '응용', '의견', '의미', '이동', '이동결', '이동근', '이동은', '이름', '이번', '이상', '이소희', '이슈', '이종', '이후', '인구', '인터넷', '인프라', '일반인', '일부', '일종', '일환', '임문영', '입장', '입지', '자료', '자원', '자율', '자체', '작년', '작업', '장정', '장충식', '재식', '쟁점', '저작권자', '전국', '전남', '전년', '전담', '전력', '전무', '전문', '전반', '전북', '전송', '전자', '전후', '점유', '접속', '접촉', '제기', '제로', '제보', '제시', '제안서', '제주', '조사', '조치', '조회', '주거', '주관', '주말', '주중', '주최', '주행', '중계', '중심', '중앙', '중점', '증가세', '지난해', '지도', '지속', '지정', '직원', '진행', '진흥', '집계', '집단', '차세대', '착수', '참고', '처리', '첫째', '체결', '체크', '최종', '추정', '출범', '충남', '컨설팅', '코로나', '코스콤', '클릭', '테스트', '텔레콤', '토리', '토요일', '통계', '통계청', '통과', '통상', '통하', '통합', '파악', '파이낸셜', '판교', '판매', '편의', '편익', '포스', '포털', '포함', '프로그램', '프로세싱', '플레이스', '핀테크', '하반기', '학생', '한국전력', '한국전력공사', '한전', '한정', '한편', '항목', '행안', '행정', '행정동', '허가', '허브', '허용', '현재', '현황', '협약', '협회', '홈페이지', '확장', '확진', '활성', '회가', '회복', '회복세', '회의', '효율', '희망']\n"
          ],
          "name": "stdout"
        }
      ]
    },
    {
      "cell_type": "code",
      "metadata": {
        "id": "5OLyppxvaJEV",
        "colab_type": "code",
        "colab": {
          "base_uri": "https://localhost:8080/",
          "height": 34
        },
        "outputId": "457ed7f4-1caa-4a9e-f360-244e573f3712"
      },
      "source": [
        "print(tf_idf_vector) ##왜 안나오는지 확인하기"
      ],
      "execution_count": 30,
      "outputs": [
        {
          "output_type": "stream",
          "text": [
            "\n"
          ],
          "name": "stdout"
        }
      ]
    },
    {
      "cell_type": "code",
      "metadata": {
        "id": "23_-bYgXaLHd",
        "colab_type": "code",
        "colab": {}
      },
      "source": [
        ""
      ],
      "execution_count": null,
      "outputs": []
    }
  ]
}