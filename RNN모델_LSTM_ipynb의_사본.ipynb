{
  "nbformat": 4,
  "nbformat_minor": 0,
  "metadata": {
    "colab": {
      "name": "RNN모델_LSTM.ipynb의 사본",
      "provenance": [],
      "private_outputs": true,
      "collapsed_sections": [],
      "mount_file_id": "1YQ8MQu-vja2Lbs-UXG7xyDhOfUp_YTCC",
      "authorship_tag": "ABX9TyOz1hK/QcVZ7tnCvW2xFUPH",
      "include_colab_link": true
    },
    "kernelspec": {
      "name": "python3",
      "display_name": "Python 3"
    },
    "accelerator": "GPU"
  },
  "cells": [
    {
      "cell_type": "markdown",
      "metadata": {
        "id": "view-in-github",
        "colab_type": "text"
      },
      "source": [
        "<a href=\"https://colab.research.google.com/github/junsookim1/Everday_Practice/blob/master/RNN%EB%AA%A8%EB%8D%B8_LSTM_ipynb%EC%9D%98_%EC%82%AC%EB%B3%B8.ipynb\" target=\"_parent\"><img src=\"https://colab.research.google.com/assets/colab-badge.svg\" alt=\"Open In Colab\"/></a>"
      ]
    },
    {
      "cell_type": "code",
      "metadata": {
        "id": "-W8mlatNkx-X",
        "colab_type": "code",
        "colab": {}
      },
      "source": [
        "import tensorflow as tf\n",
        "from tensorflow.keras.preprocessing.text import Tokenizer\n",
        "from tensorflow.keras.preprocessing.sequence import pad_sequences\n",
        "import numpy as np\n",
        "\n",
        "import pickle"
      ],
      "execution_count": null,
      "outputs": []
    },
    {
      "cell_type": "code",
      "metadata": {
        "id": "bit4ZWwRkdoQ",
        "colab_type": "code",
        "colab": {}
      },
      "source": [
        "with open('/content/drive/My Drive/Word2vec(FastText)/CNN_non_static_tokenizer_5조.pickle', 'rb') as f: #불러오기\n",
        "      tokenizer = pickle.load(f)"
      ],
      "execution_count": null,
      "outputs": []
    },
    {
      "cell_type": "code",
      "metadata": {
        "id": "VjWjRpLHk1U2",
        "colab_type": "code",
        "colab": {}
      },
      "source": [
        "vocab_size = 47228\n",
        "embedding_dim = 300\n",
        "max_length = 71\n",
        "truct_type = 'post'\n",
        "padding_type = 'post'\n",
        "oov_tok = '<OOV>'"
      ],
      "execution_count": null,
      "outputs": []
    },
    {
      "cell_type": "code",
      "metadata": {
        "id": "666rDGhek7n0",
        "colab_type": "code",
        "colab": {}
      },
      "source": [
        "with open('/content/drive/My Drive/Word2vec(FastText)/news_train_data.pickle', 'rb') as f: #불러오기\n",
        "      train_data = pickle.load(f)\n",
        "with open('/content/drive/My Drive/Word2vec(FastText)/news_test_data.pickle', 'rb') as f: #불러오기\n",
        "      test_data = pickle.load(f)"
      ],
      "execution_count": null,
      "outputs": []
    },
    {
      "cell_type": "code",
      "metadata": {
        "id": "dUMza1jolD-v",
        "colab_type": "code",
        "colab": {}
      },
      "source": [
        "data = train_data['train_words_all']"
      ],
      "execution_count": null,
      "outputs": []
    },
    {
      "cell_type": "code",
      "metadata": {
        "id": "5_tdTvN4lGKI",
        "colab_type": "code",
        "colab": {}
      },
      "source": [
        "tokenizer.fit_on_texts(data)\n",
        "word_index = tokenizer.word_index"
      ],
      "execution_count": null,
      "outputs": []
    },
    {
      "cell_type": "code",
      "metadata": {
        "id": "QYqpDs7OlI18",
        "colab_type": "code",
        "colab": {}
      },
      "source": [
        "training_sequences  = tokenizer.texts_to_sequences(data)\n",
        "training_padded = pad_sequences(training_sequences, maxlen=max_length, \n",
        "                                padding=padding_type, truncating=truct_type)\n",
        "\n",
        "testing_sequences  = tokenizer.texts_to_sequences(test_data['test_words_all'])\n",
        "testing_padded = pad_sequences(testing_sequences, maxlen=max_length, \n",
        "                                padding=padding_type, truncating=truct_type)\n",
        "\n",
        "training_padded = np.array(training_padded)\n",
        "training_labels = np.array(train_data['label'])\n",
        "\n",
        "testing_padded = np.array(testing_padded)\n",
        "testing_labels = np.array(test_data['label'])\n",
        "\n"
      ],
      "execution_count": null,
      "outputs": []
    },
    {
      "cell_type": "code",
      "metadata": {
        "id": "FM7Hwg9kjfaU",
        "colab_type": "code",
        "colab": {}
      },
      "source": [
        "from tensorflow.keras.models import load_model"
      ],
      "execution_count": null,
      "outputs": []
    },
    {
      "cell_type": "code",
      "metadata": {
        "id": "JxCw_LbVh4D7",
        "colab_type": "code",
        "colab": {}
      },
      "source": [
        "model_LSTM = load_model('/content/drive/My Drive/Word2vec(FastText)/model_lstm.h5')"
      ],
      "execution_count": null,
      "outputs": []
    },
    {
      "cell_type": "code",
      "metadata": {
        "id": "KNo-9xqNjcfe",
        "colab_type": "code",
        "colab": {}
      },
      "source": [
        "model_LSTM"
      ],
      "execution_count": null,
      "outputs": []
    },
    {
      "cell_type": "code",
      "metadata": {
        "id": "52XLm2ykjlBF",
        "colab_type": "code",
        "colab": {}
      },
      "source": [
        "model_LSTM.compile(loss='binary_crossentropy',\n",
        "              optimizer='adam',\n",
        "              metrics=['accuracy'])\n",
        "model_LSTM.summary()"
      ],
      "execution_count": null,
      "outputs": []
    },
    {
      "cell_type": "code",
      "metadata": {
        "id": "gUQucKA6kSTa",
        "colab_type": "code",
        "colab": {}
      },
      "source": [
        "num_epochs = 10\n",
        "history = model_LSTM.fit(training_padded, training_labels, epochs=num_epochs, validation_data=(testing_padded, testing_labels), verbose=True)"
      ],
      "execution_count": null,
      "outputs": []
    },
    {
      "cell_type": "code",
      "metadata": {
        "id": "1sK0faM7lRPp",
        "colab_type": "code",
        "colab": {}
      },
      "source": [
        "!mkdir -p saved_model\n",
        "model.save('/content/drive/My Drive/Word2vec(FastText)/saved_model/LSTM_model') # 학습된 모델 저장"
      ],
      "execution_count": null,
      "outputs": []
    },
    {
      "cell_type": "code",
      "metadata": {
        "id": "cYUzZ2cWlmKB",
        "colab_type": "code",
        "colab": {}
      },
      "source": [
        "new_model = tf.keras.models.load_model('saved_model')"
      ],
      "execution_count": null,
      "outputs": []
    }
  ]
}